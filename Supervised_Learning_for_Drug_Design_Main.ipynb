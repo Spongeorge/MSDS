{
  "nbformat": 4,
  "nbformat_minor": 0,
  "metadata": {
    "colab": {
      "provenance": [],
      "machine_shape": "hm"
    },
    "kernelspec": {
      "name": "python3",
      "display_name": "Python 3"
    },
    "language_info": {
      "name": "python"
    },
    "gpuClass": "standard"
  },
  "cells": [
    {
      "cell_type": "markdown",
      "source": [
        "# Supervised Learning for Drug Design\n",
        "The drug development process by which new medications are discovered, developed, and tested before being brought to market is notoriously long and expensive, often taking years or even decades and costing billions to come up with a single new drug. If a new drug development company's first drug doesn't make it through pre-clinical and clinical trials (which is often the case) they are unlikely to receive further funding and are liable to go bankrupt.\n",
        "\n",
        "Whilst the restrictions and regulations that exist are practically unavoidable (and there for good reason), using machine learning techniques to select drug-like molecules that are more likely to have desirable qualities is bound to result in more a efficient drug development process, saving company and investor money, and ultimately yielding higher quality medications in higher quantities for the public.\n",
        "\n",
        "Machine learning techniques are already widely used in drug design and development. Many of these make use of deep learning and neural networks, but some simpler (and more interpretable) models also find their use. Since this course dealt with supervised learning methods (not including deep learning methods) I will be making use of various ensemble models (namely random forests and boosting)."
      ],
      "metadata": {
        "id": "zQvSbrLIiOaU"
      }
    },
    {
      "cell_type": "markdown",
      "source": [
        "# Problem Description: Prediction of Failure in Clinical Trials and FDA Approval\n",
        "The primary end goal of the drug development process is to have a prospective drug approved by the FDA at which point it is essentially greenlit for use by and sale to the public. If in clinical trials a drug is found to be significantly harmful when consumed it will be denied by the FDA, and so weeding these out before time and money is spent on clinical trials is paramount. In this project I intend to make use of random forests, gradient boosting, and AdaBoost to train a classifier to do just that (and figure out which of the three methods is most suited to doing so in the process).\n"
      ],
      "metadata": {
        "id": "PX8EKFV3lc77"
      }
    },
    {
      "cell_type": "code",
      "source": [
        "import pandas as pd\n",
        "import numpy as np\n",
        "\n",
        "!pip install --pre deepchem\n",
        "import deepchem as dc\n",
        "\n",
        "import seaborn as sns\n",
        "import matplotlib.pyplot as plt"
      ],
      "metadata": {
        "id": "MV_EfR8OhAMD",
        "colab": {
          "base_uri": "https://localhost:8080/",
          "height": 0
        },
        "outputId": "7e7cba94-c4a9-4af0-bcf9-4b23886293a8"
      },
      "execution_count": 1,
      "outputs": [
        {
          "output_type": "stream",
          "name": "stdout",
          "text": [
            "Looking in indexes: https://pypi.org/simple, https://us-python.pkg.dev/colab-wheels/public/simple/\n",
            "Requirement already satisfied: deepchem in /usr/local/lib/python3.8/dist-packages (2.7.1)\n",
            "Requirement already satisfied: pandas in /usr/local/lib/python3.8/dist-packages (from deepchem) (1.3.5)\n",
            "Requirement already satisfied: rdkit in /usr/local/lib/python3.8/dist-packages (from deepchem) (2022.9.2)\n",
            "Requirement already satisfied: joblib in /usr/local/lib/python3.8/dist-packages (from deepchem) (1.2.0)\n",
            "Requirement already satisfied: scikit-learn in /usr/local/lib/python3.8/dist-packages (from deepchem) (1.0.2)\n",
            "Requirement already satisfied: scipy<1.9 in /usr/local/lib/python3.8/dist-packages (from deepchem) (1.7.3)\n",
            "Requirement already satisfied: numpy>=1.21 in /usr/local/lib/python3.8/dist-packages (from deepchem) (1.21.6)\n",
            "Requirement already satisfied: python-dateutil>=2.7.3 in /usr/local/lib/python3.8/dist-packages (from pandas->deepchem) (2.8.2)\n",
            "Requirement already satisfied: pytz>=2017.3 in /usr/local/lib/python3.8/dist-packages (from pandas->deepchem) (2022.6)\n",
            "Requirement already satisfied: six>=1.5 in /usr/local/lib/python3.8/dist-packages (from python-dateutil>=2.7.3->pandas->deepchem) (1.15.0)\n",
            "Requirement already satisfied: Pillow in /usr/local/lib/python3.8/dist-packages (from rdkit->deepchem) (7.1.2)\n",
            "Requirement already satisfied: threadpoolctl>=2.0.0 in /usr/local/lib/python3.8/dist-packages (from scikit-learn->deepchem) (3.1.0)\n"
          ]
        },
        {
          "output_type": "stream",
          "name": "stderr",
          "text": [
            "WARNING:deepchem.models.torch_models:Skipped loading modules with pytorch-geometric dependency, missing a dependency. No module named 'torch_geometric'\n",
            "WARNING:deepchem.models:Skipped loading modules with pytorch-geometric dependency, missing a dependency. cannot import name 'DMPNN' from 'deepchem.models.torch_models' (/usr/local/lib/python3.8/dist-packages/deepchem/models/torch_models/__init__.py)\n",
            "WARNING:deepchem.models:Skipped loading modules with pytorch-lightning dependency, missing a dependency. No module named 'pytorch_lightning'\n",
            "WARNING:deepchem.models:Skipped loading some Jax models, missing a dependency. No module named 'haiku'\n"
          ]
        }
      ]
    },
    {
      "cell_type": "markdown",
      "source": [
        "# The Data: Tox21 Dataset\n",
        "The dataset I will be using for this project is the Tox21 dataset from MoleculeNet. \n",
        "\n",
        "The Tox21 dataset includes “Qualitative toxicity measurements on 12 biological targets, including nuclear receptors and stress response pathways.” (Wu et al., 2017). Ideally we would have our drug candidate molecule not be toxic at all.\n",
        "\n",
        "The Tox21 dataset and others from the MoleculeNet paper can be found at the following URL: https://moleculenet.org/datasets-1\n",
        "\n",
        "The Tox21 dataset includes 7831 entries, each referring to a single compound, and 13 columns:\n",
        "\n",
        "*   **smiles**, a SMILES format string. This encodes the molecule's atomic structure and will be where we extract all our features from.\n",
        "*   The other twelve columns represent categorical toxicity measurements (1 means toxicity was found, 0 means that is was not) corresponding to different biological targets. Unfortunately, not every row has a value for each target, so it will be important to figure out what to do with these.\n",
        "\n",
        "\n",
        "It's worth noting that toxicity and and FDA approval are not necessarily mutually exclusive, though they are significantly inversely correlated. A drug might not be toxic but be denied for other reasons, and some toxic drugs might be approved by the FDA, for example those intended for terminally ill patients where the benefits of the drug outweigh any damage done by toxicity.\n",
        "\n",
        "\n"
      ],
      "metadata": {
        "id": "gtx7MZkuo8bS"
      }
    },
    {
      "cell_type": "code",
      "source": [
        "tox21 = pd.read_csv(\"https://deepchemdata.s3-us-west-1.amazonaws.com/datasets/tox21.csv.gz\")"
      ],
      "metadata": {
        "id": "orWkWjSzsEb_"
      },
      "execution_count": 2,
      "outputs": []
    },
    {
      "cell_type": "code",
      "source": [
        "tox21.head()"
      ],
      "metadata": {
        "colab": {
          "base_uri": "https://localhost:8080/",
          "height": 206
        },
        "id": "u1QD1Y5rdbeB",
        "outputId": "a38adea6-08e2-4e5e-b732-79183f109def"
      },
      "execution_count": 3,
      "outputs": [
        {
          "output_type": "execute_result",
          "data": {
            "text/plain": [
              "   NR-AR  NR-AR-LBD  NR-AhR  NR-Aromatase  NR-ER  NR-ER-LBD  NR-PPAR-gamma  \\\n",
              "0    0.0        0.0     1.0           NaN    NaN        0.0            0.0   \n",
              "1    0.0        0.0     0.0           0.0    0.0        0.0            0.0   \n",
              "2    NaN        NaN     NaN           NaN    NaN        NaN            NaN   \n",
              "3    0.0        0.0     0.0           0.0    0.0        0.0            0.0   \n",
              "4    0.0        0.0     0.0           0.0    0.0        0.0            0.0   \n",
              "\n",
              "   SR-ARE  SR-ATAD5  SR-HSE  SR-MMP  SR-p53    mol_id  \\\n",
              "0     1.0       0.0     0.0     0.0     0.0   TOX3021   \n",
              "1     NaN       0.0     NaN     0.0     0.0   TOX3020   \n",
              "2     0.0       NaN     0.0     NaN     NaN   TOX3024   \n",
              "3     NaN       0.0     NaN     0.0     0.0   TOX3027   \n",
              "4     0.0       0.0     0.0     0.0     0.0  TOX20800   \n",
              "\n",
              "                                              smiles  \n",
              "0                       CCOc1ccc2nc(S(N)(=O)=O)sc2c1  \n",
              "1                          CCN1C(=O)NC(c2ccccc2)C1=O  \n",
              "2  CC[C@]1(O)CC[C@H]2[C@@H]3CCC4=CCCC[C@@H]4[C@H]...  \n",
              "3                    CCCN(CC)C(CC)C(=O)Nc1c(C)cccc1C  \n",
              "4                          CC(O)(P(=O)(O)O)P(=O)(O)O  "
            ],
            "text/html": [
              "\n",
              "  <div id=\"df-6edb1538-213c-4fd2-a864-8ec645995294\">\n",
              "    <div class=\"colab-df-container\">\n",
              "      <div>\n",
              "<style scoped>\n",
              "    .dataframe tbody tr th:only-of-type {\n",
              "        vertical-align: middle;\n",
              "    }\n",
              "\n",
              "    .dataframe tbody tr th {\n",
              "        vertical-align: top;\n",
              "    }\n",
              "\n",
              "    .dataframe thead th {\n",
              "        text-align: right;\n",
              "    }\n",
              "</style>\n",
              "<table border=\"1\" class=\"dataframe\">\n",
              "  <thead>\n",
              "    <tr style=\"text-align: right;\">\n",
              "      <th></th>\n",
              "      <th>NR-AR</th>\n",
              "      <th>NR-AR-LBD</th>\n",
              "      <th>NR-AhR</th>\n",
              "      <th>NR-Aromatase</th>\n",
              "      <th>NR-ER</th>\n",
              "      <th>NR-ER-LBD</th>\n",
              "      <th>NR-PPAR-gamma</th>\n",
              "      <th>SR-ARE</th>\n",
              "      <th>SR-ATAD5</th>\n",
              "      <th>SR-HSE</th>\n",
              "      <th>SR-MMP</th>\n",
              "      <th>SR-p53</th>\n",
              "      <th>mol_id</th>\n",
              "      <th>smiles</th>\n",
              "    </tr>\n",
              "  </thead>\n",
              "  <tbody>\n",
              "    <tr>\n",
              "      <th>0</th>\n",
              "      <td>0.0</td>\n",
              "      <td>0.0</td>\n",
              "      <td>1.0</td>\n",
              "      <td>NaN</td>\n",
              "      <td>NaN</td>\n",
              "      <td>0.0</td>\n",
              "      <td>0.0</td>\n",
              "      <td>1.0</td>\n",
              "      <td>0.0</td>\n",
              "      <td>0.0</td>\n",
              "      <td>0.0</td>\n",
              "      <td>0.0</td>\n",
              "      <td>TOX3021</td>\n",
              "      <td>CCOc1ccc2nc(S(N)(=O)=O)sc2c1</td>\n",
              "    </tr>\n",
              "    <tr>\n",
              "      <th>1</th>\n",
              "      <td>0.0</td>\n",
              "      <td>0.0</td>\n",
              "      <td>0.0</td>\n",
              "      <td>0.0</td>\n",
              "      <td>0.0</td>\n",
              "      <td>0.0</td>\n",
              "      <td>0.0</td>\n",
              "      <td>NaN</td>\n",
              "      <td>0.0</td>\n",
              "      <td>NaN</td>\n",
              "      <td>0.0</td>\n",
              "      <td>0.0</td>\n",
              "      <td>TOX3020</td>\n",
              "      <td>CCN1C(=O)NC(c2ccccc2)C1=O</td>\n",
              "    </tr>\n",
              "    <tr>\n",
              "      <th>2</th>\n",
              "      <td>NaN</td>\n",
              "      <td>NaN</td>\n",
              "      <td>NaN</td>\n",
              "      <td>NaN</td>\n",
              "      <td>NaN</td>\n",
              "      <td>NaN</td>\n",
              "      <td>NaN</td>\n",
              "      <td>0.0</td>\n",
              "      <td>NaN</td>\n",
              "      <td>0.0</td>\n",
              "      <td>NaN</td>\n",
              "      <td>NaN</td>\n",
              "      <td>TOX3024</td>\n",
              "      <td>CC[C@]1(O)CC[C@H]2[C@@H]3CCC4=CCCC[C@@H]4[C@H]...</td>\n",
              "    </tr>\n",
              "    <tr>\n",
              "      <th>3</th>\n",
              "      <td>0.0</td>\n",
              "      <td>0.0</td>\n",
              "      <td>0.0</td>\n",
              "      <td>0.0</td>\n",
              "      <td>0.0</td>\n",
              "      <td>0.0</td>\n",
              "      <td>0.0</td>\n",
              "      <td>NaN</td>\n",
              "      <td>0.0</td>\n",
              "      <td>NaN</td>\n",
              "      <td>0.0</td>\n",
              "      <td>0.0</td>\n",
              "      <td>TOX3027</td>\n",
              "      <td>CCCN(CC)C(CC)C(=O)Nc1c(C)cccc1C</td>\n",
              "    </tr>\n",
              "    <tr>\n",
              "      <th>4</th>\n",
              "      <td>0.0</td>\n",
              "      <td>0.0</td>\n",
              "      <td>0.0</td>\n",
              "      <td>0.0</td>\n",
              "      <td>0.0</td>\n",
              "      <td>0.0</td>\n",
              "      <td>0.0</td>\n",
              "      <td>0.0</td>\n",
              "      <td>0.0</td>\n",
              "      <td>0.0</td>\n",
              "      <td>0.0</td>\n",
              "      <td>0.0</td>\n",
              "      <td>TOX20800</td>\n",
              "      <td>CC(O)(P(=O)(O)O)P(=O)(O)O</td>\n",
              "    </tr>\n",
              "  </tbody>\n",
              "</table>\n",
              "</div>\n",
              "      <button class=\"colab-df-convert\" onclick=\"convertToInteractive('df-6edb1538-213c-4fd2-a864-8ec645995294')\"\n",
              "              title=\"Convert this dataframe to an interactive table.\"\n",
              "              style=\"display:none;\">\n",
              "        \n",
              "  <svg xmlns=\"http://www.w3.org/2000/svg\" height=\"24px\"viewBox=\"0 0 24 24\"\n",
              "       width=\"24px\">\n",
              "    <path d=\"M0 0h24v24H0V0z\" fill=\"none\"/>\n",
              "    <path d=\"M18.56 5.44l.94 2.06.94-2.06 2.06-.94-2.06-.94-.94-2.06-.94 2.06-2.06.94zm-11 1L8.5 8.5l.94-2.06 2.06-.94-2.06-.94L8.5 2.5l-.94 2.06-2.06.94zm10 10l.94 2.06.94-2.06 2.06-.94-2.06-.94-.94-2.06-.94 2.06-2.06.94z\"/><path d=\"M17.41 7.96l-1.37-1.37c-.4-.4-.92-.59-1.43-.59-.52 0-1.04.2-1.43.59L10.3 9.45l-7.72 7.72c-.78.78-.78 2.05 0 2.83L4 21.41c.39.39.9.59 1.41.59.51 0 1.02-.2 1.41-.59l7.78-7.78 2.81-2.81c.8-.78.8-2.07 0-2.86zM5.41 20L4 18.59l7.72-7.72 1.47 1.35L5.41 20z\"/>\n",
              "  </svg>\n",
              "      </button>\n",
              "      \n",
              "  <style>\n",
              "    .colab-df-container {\n",
              "      display:flex;\n",
              "      flex-wrap:wrap;\n",
              "      gap: 12px;\n",
              "    }\n",
              "\n",
              "    .colab-df-convert {\n",
              "      background-color: #E8F0FE;\n",
              "      border: none;\n",
              "      border-radius: 50%;\n",
              "      cursor: pointer;\n",
              "      display: none;\n",
              "      fill: #1967D2;\n",
              "      height: 32px;\n",
              "      padding: 0 0 0 0;\n",
              "      width: 32px;\n",
              "    }\n",
              "\n",
              "    .colab-df-convert:hover {\n",
              "      background-color: #E2EBFA;\n",
              "      box-shadow: 0px 1px 2px rgba(60, 64, 67, 0.3), 0px 1px 3px 1px rgba(60, 64, 67, 0.15);\n",
              "      fill: #174EA6;\n",
              "    }\n",
              "\n",
              "    [theme=dark] .colab-df-convert {\n",
              "      background-color: #3B4455;\n",
              "      fill: #D2E3FC;\n",
              "    }\n",
              "\n",
              "    [theme=dark] .colab-df-convert:hover {\n",
              "      background-color: #434B5C;\n",
              "      box-shadow: 0px 1px 3px 1px rgba(0, 0, 0, 0.15);\n",
              "      filter: drop-shadow(0px 1px 2px rgba(0, 0, 0, 0.3));\n",
              "      fill: #FFFFFF;\n",
              "    }\n",
              "  </style>\n",
              "\n",
              "      <script>\n",
              "        const buttonEl =\n",
              "          document.querySelector('#df-6edb1538-213c-4fd2-a864-8ec645995294 button.colab-df-convert');\n",
              "        buttonEl.style.display =\n",
              "          google.colab.kernel.accessAllowed ? 'block' : 'none';\n",
              "\n",
              "        async function convertToInteractive(key) {\n",
              "          const element = document.querySelector('#df-6edb1538-213c-4fd2-a864-8ec645995294');\n",
              "          const dataTable =\n",
              "            await google.colab.kernel.invokeFunction('convertToInteractive',\n",
              "                                                     [key], {});\n",
              "          if (!dataTable) return;\n",
              "\n",
              "          const docLinkHtml = 'Like what you see? Visit the ' +\n",
              "            '<a target=\"_blank\" href=https://colab.research.google.com/notebooks/data_table.ipynb>data table notebook</a>'\n",
              "            + ' to learn more about interactive tables.';\n",
              "          element.innerHTML = '';\n",
              "          dataTable['output_type'] = 'display_data';\n",
              "          await google.colab.output.renderOutput(dataTable, element);\n",
              "          const docLink = document.createElement('div');\n",
              "          docLink.innerHTML = docLinkHtml;\n",
              "          element.appendChild(docLink);\n",
              "        }\n",
              "      </script>\n",
              "    </div>\n",
              "  </div>\n",
              "  "
            ]
          },
          "metadata": {},
          "execution_count": 3
        }
      ]
    },
    {
      "cell_type": "markdown",
      "source": [
        "# Feature Extraction\n",
        "Our 'smiles' column is just a string. In order to get useful information from these strings for our models we will have to perform some feature extraction. The [DeepChem](https://deepchem.io/) library provides a number of useful molecular featurizers, my favorite of which is graph convolutions. Molecules happen to be very well suited to representation as a graph of the atoms that they're made of, and the graph convolution featurizer performs convolutions over this graph to capture information about the relationships between atoms and atomic groups within a molecule, not entirely dissimilarly to how convolutions are used in computer vision and image processing to capture relationships between pixels (although unlike image data, molecules in graph representation generally don't fall on a perfectly rectangular coordinate plane). Graph convolutions of molecules tend to be very useful for molecular machine learning, but unfortunately they aren't entirely deterministic and so results may vary. \n",
        "\n",
        "For the purposes of this assignment I will use the Extended-Connectivity Fingerprints featurizer to produce some deterministic features from the smiles data. The fingerprint featurizer will create a bunch of new features representing whether or not the molecule in question contains that specific substructure.\n",
        "\n",
        "Hopefully this will allow me to find which substructures contribute significantly to a molecule's toxicity, as this would be a valuable insight to have not only for weeding out bad molecules ahead of time, but also for the purposes of designing a new candidate molecule and understanding the underlying chemistry."
      ],
      "metadata": {
        "id": "c4samOa8iNkq"
      }
    },
    {
      "cell_type": "code",
      "source": [
        "featurizer = dc.feat.CircularFingerprint(sparse=False, smiles=True, size=1024, radius=2)"
      ],
      "metadata": {
        "id": "tyJn47LN2YYP"
      },
      "execution_count": 4,
      "outputs": []
    },
    {
      "cell_type": "code",
      "source": [
        "features = featurizer.featurize(tox21['smiles'])"
      ],
      "metadata": {
        "id": "rggTr4Yng0E7"
      },
      "execution_count": 5,
      "outputs": []
    },
    {
      "cell_type": "code",
      "source": [
        "f = pd.DataFrame(features.tolist())"
      ],
      "metadata": {
        "id": "u5FnOwNx4CJ8"
      },
      "execution_count": 6,
      "outputs": []
    },
    {
      "cell_type": "code",
      "source": [
        "# Combine the tox21 dataset with the newly created features\n",
        "df = tox21.join(f)"
      ],
      "metadata": {
        "id": "gbaXRrZtZDrU"
      },
      "execution_count": 7,
      "outputs": []
    },
    {
      "cell_type": "code",
      "source": [
        "df.head()"
      ],
      "metadata": {
        "colab": {
          "base_uri": "https://localhost:8080/",
          "height": 236
        },
        "id": "XIGReef1HAkq",
        "outputId": "8526358e-0d3a-4c8f-9986-9f1f21fc9136"
      },
      "execution_count": 8,
      "outputs": [
        {
          "output_type": "execute_result",
          "data": {
            "text/plain": [
              "   NR-AR  NR-AR-LBD  NR-AhR  NR-Aromatase  NR-ER  NR-ER-LBD  NR-PPAR-gamma  \\\n",
              "0    0.0        0.0     1.0           NaN    NaN        0.0            0.0   \n",
              "1    0.0        0.0     0.0           0.0    0.0        0.0            0.0   \n",
              "2    NaN        NaN     NaN           NaN    NaN        NaN            NaN   \n",
              "3    0.0        0.0     0.0           0.0    0.0        0.0            0.0   \n",
              "4    0.0        0.0     0.0           0.0    0.0        0.0            0.0   \n",
              "\n",
              "   SR-ARE  SR-ATAD5  SR-HSE  ...  1014  1015 1016 1017  1018  1019  1020  \\\n",
              "0     1.0       0.0     0.0  ...   0.0   0.0  0.0  0.0   0.0   0.0   0.0   \n",
              "1     NaN       0.0     NaN  ...   0.0   0.0  0.0  0.0   0.0   1.0   0.0   \n",
              "2     0.0       NaN     0.0  ...   0.0   0.0  0.0  0.0   0.0   1.0   0.0   \n",
              "3     NaN       0.0     NaN  ...   0.0   0.0  0.0  0.0   0.0   0.0   0.0   \n",
              "4     0.0       0.0     0.0  ...   0.0   0.0  0.0  0.0   0.0   0.0   0.0   \n",
              "\n",
              "   1021  1022  1023  \n",
              "0   0.0   0.0   0.0  \n",
              "1   0.0   0.0   0.0  \n",
              "2   0.0   0.0   0.0  \n",
              "3   0.0   0.0   0.0  \n",
              "4   0.0   0.0   0.0  \n",
              "\n",
              "[5 rows x 1038 columns]"
            ],
            "text/html": [
              "\n",
              "  <div id=\"df-3d8d4af1-bfa3-4f45-b2e1-54a41294192f\">\n",
              "    <div class=\"colab-df-container\">\n",
              "      <div>\n",
              "<style scoped>\n",
              "    .dataframe tbody tr th:only-of-type {\n",
              "        vertical-align: middle;\n",
              "    }\n",
              "\n",
              "    .dataframe tbody tr th {\n",
              "        vertical-align: top;\n",
              "    }\n",
              "\n",
              "    .dataframe thead th {\n",
              "        text-align: right;\n",
              "    }\n",
              "</style>\n",
              "<table border=\"1\" class=\"dataframe\">\n",
              "  <thead>\n",
              "    <tr style=\"text-align: right;\">\n",
              "      <th></th>\n",
              "      <th>NR-AR</th>\n",
              "      <th>NR-AR-LBD</th>\n",
              "      <th>NR-AhR</th>\n",
              "      <th>NR-Aromatase</th>\n",
              "      <th>NR-ER</th>\n",
              "      <th>NR-ER-LBD</th>\n",
              "      <th>NR-PPAR-gamma</th>\n",
              "      <th>SR-ARE</th>\n",
              "      <th>SR-ATAD5</th>\n",
              "      <th>SR-HSE</th>\n",
              "      <th>...</th>\n",
              "      <th>1014</th>\n",
              "      <th>1015</th>\n",
              "      <th>1016</th>\n",
              "      <th>1017</th>\n",
              "      <th>1018</th>\n",
              "      <th>1019</th>\n",
              "      <th>1020</th>\n",
              "      <th>1021</th>\n",
              "      <th>1022</th>\n",
              "      <th>1023</th>\n",
              "    </tr>\n",
              "  </thead>\n",
              "  <tbody>\n",
              "    <tr>\n",
              "      <th>0</th>\n",
              "      <td>0.0</td>\n",
              "      <td>0.0</td>\n",
              "      <td>1.0</td>\n",
              "      <td>NaN</td>\n",
              "      <td>NaN</td>\n",
              "      <td>0.0</td>\n",
              "      <td>0.0</td>\n",
              "      <td>1.0</td>\n",
              "      <td>0.0</td>\n",
              "      <td>0.0</td>\n",
              "      <td>...</td>\n",
              "      <td>0.0</td>\n",
              "      <td>0.0</td>\n",
              "      <td>0.0</td>\n",
              "      <td>0.0</td>\n",
              "      <td>0.0</td>\n",
              "      <td>0.0</td>\n",
              "      <td>0.0</td>\n",
              "      <td>0.0</td>\n",
              "      <td>0.0</td>\n",
              "      <td>0.0</td>\n",
              "    </tr>\n",
              "    <tr>\n",
              "      <th>1</th>\n",
              "      <td>0.0</td>\n",
              "      <td>0.0</td>\n",
              "      <td>0.0</td>\n",
              "      <td>0.0</td>\n",
              "      <td>0.0</td>\n",
              "      <td>0.0</td>\n",
              "      <td>0.0</td>\n",
              "      <td>NaN</td>\n",
              "      <td>0.0</td>\n",
              "      <td>NaN</td>\n",
              "      <td>...</td>\n",
              "      <td>0.0</td>\n",
              "      <td>0.0</td>\n",
              "      <td>0.0</td>\n",
              "      <td>0.0</td>\n",
              "      <td>0.0</td>\n",
              "      <td>1.0</td>\n",
              "      <td>0.0</td>\n",
              "      <td>0.0</td>\n",
              "      <td>0.0</td>\n",
              "      <td>0.0</td>\n",
              "    </tr>\n",
              "    <tr>\n",
              "      <th>2</th>\n",
              "      <td>NaN</td>\n",
              "      <td>NaN</td>\n",
              "      <td>NaN</td>\n",
              "      <td>NaN</td>\n",
              "      <td>NaN</td>\n",
              "      <td>NaN</td>\n",
              "      <td>NaN</td>\n",
              "      <td>0.0</td>\n",
              "      <td>NaN</td>\n",
              "      <td>0.0</td>\n",
              "      <td>...</td>\n",
              "      <td>0.0</td>\n",
              "      <td>0.0</td>\n",
              "      <td>0.0</td>\n",
              "      <td>0.0</td>\n",
              "      <td>0.0</td>\n",
              "      <td>1.0</td>\n",
              "      <td>0.0</td>\n",
              "      <td>0.0</td>\n",
              "      <td>0.0</td>\n",
              "      <td>0.0</td>\n",
              "    </tr>\n",
              "    <tr>\n",
              "      <th>3</th>\n",
              "      <td>0.0</td>\n",
              "      <td>0.0</td>\n",
              "      <td>0.0</td>\n",
              "      <td>0.0</td>\n",
              "      <td>0.0</td>\n",
              "      <td>0.0</td>\n",
              "      <td>0.0</td>\n",
              "      <td>NaN</td>\n",
              "      <td>0.0</td>\n",
              "      <td>NaN</td>\n",
              "      <td>...</td>\n",
              "      <td>0.0</td>\n",
              "      <td>0.0</td>\n",
              "      <td>0.0</td>\n",
              "      <td>0.0</td>\n",
              "      <td>0.0</td>\n",
              "      <td>0.0</td>\n",
              "      <td>0.0</td>\n",
              "      <td>0.0</td>\n",
              "      <td>0.0</td>\n",
              "      <td>0.0</td>\n",
              "    </tr>\n",
              "    <tr>\n",
              "      <th>4</th>\n",
              "      <td>0.0</td>\n",
              "      <td>0.0</td>\n",
              "      <td>0.0</td>\n",
              "      <td>0.0</td>\n",
              "      <td>0.0</td>\n",
              "      <td>0.0</td>\n",
              "      <td>0.0</td>\n",
              "      <td>0.0</td>\n",
              "      <td>0.0</td>\n",
              "      <td>0.0</td>\n",
              "      <td>...</td>\n",
              "      <td>0.0</td>\n",
              "      <td>0.0</td>\n",
              "      <td>0.0</td>\n",
              "      <td>0.0</td>\n",
              "      <td>0.0</td>\n",
              "      <td>0.0</td>\n",
              "      <td>0.0</td>\n",
              "      <td>0.0</td>\n",
              "      <td>0.0</td>\n",
              "      <td>0.0</td>\n",
              "    </tr>\n",
              "  </tbody>\n",
              "</table>\n",
              "<p>5 rows × 1038 columns</p>\n",
              "</div>\n",
              "      <button class=\"colab-df-convert\" onclick=\"convertToInteractive('df-3d8d4af1-bfa3-4f45-b2e1-54a41294192f')\"\n",
              "              title=\"Convert this dataframe to an interactive table.\"\n",
              "              style=\"display:none;\">\n",
              "        \n",
              "  <svg xmlns=\"http://www.w3.org/2000/svg\" height=\"24px\"viewBox=\"0 0 24 24\"\n",
              "       width=\"24px\">\n",
              "    <path d=\"M0 0h24v24H0V0z\" fill=\"none\"/>\n",
              "    <path d=\"M18.56 5.44l.94 2.06.94-2.06 2.06-.94-2.06-.94-.94-2.06-.94 2.06-2.06.94zm-11 1L8.5 8.5l.94-2.06 2.06-.94-2.06-.94L8.5 2.5l-.94 2.06-2.06.94zm10 10l.94 2.06.94-2.06 2.06-.94-2.06-.94-.94-2.06-.94 2.06-2.06.94z\"/><path d=\"M17.41 7.96l-1.37-1.37c-.4-.4-.92-.59-1.43-.59-.52 0-1.04.2-1.43.59L10.3 9.45l-7.72 7.72c-.78.78-.78 2.05 0 2.83L4 21.41c.39.39.9.59 1.41.59.51 0 1.02-.2 1.41-.59l7.78-7.78 2.81-2.81c.8-.78.8-2.07 0-2.86zM5.41 20L4 18.59l7.72-7.72 1.47 1.35L5.41 20z\"/>\n",
              "  </svg>\n",
              "      </button>\n",
              "      \n",
              "  <style>\n",
              "    .colab-df-container {\n",
              "      display:flex;\n",
              "      flex-wrap:wrap;\n",
              "      gap: 12px;\n",
              "    }\n",
              "\n",
              "    .colab-df-convert {\n",
              "      background-color: #E8F0FE;\n",
              "      border: none;\n",
              "      border-radius: 50%;\n",
              "      cursor: pointer;\n",
              "      display: none;\n",
              "      fill: #1967D2;\n",
              "      height: 32px;\n",
              "      padding: 0 0 0 0;\n",
              "      width: 32px;\n",
              "    }\n",
              "\n",
              "    .colab-df-convert:hover {\n",
              "      background-color: #E2EBFA;\n",
              "      box-shadow: 0px 1px 2px rgba(60, 64, 67, 0.3), 0px 1px 3px 1px rgba(60, 64, 67, 0.15);\n",
              "      fill: #174EA6;\n",
              "    }\n",
              "\n",
              "    [theme=dark] .colab-df-convert {\n",
              "      background-color: #3B4455;\n",
              "      fill: #D2E3FC;\n",
              "    }\n",
              "\n",
              "    [theme=dark] .colab-df-convert:hover {\n",
              "      background-color: #434B5C;\n",
              "      box-shadow: 0px 1px 3px 1px rgba(0, 0, 0, 0.15);\n",
              "      filter: drop-shadow(0px 1px 2px rgba(0, 0, 0, 0.3));\n",
              "      fill: #FFFFFF;\n",
              "    }\n",
              "  </style>\n",
              "\n",
              "      <script>\n",
              "        const buttonEl =\n",
              "          document.querySelector('#df-3d8d4af1-bfa3-4f45-b2e1-54a41294192f button.colab-df-convert');\n",
              "        buttonEl.style.display =\n",
              "          google.colab.kernel.accessAllowed ? 'block' : 'none';\n",
              "\n",
              "        async function convertToInteractive(key) {\n",
              "          const element = document.querySelector('#df-3d8d4af1-bfa3-4f45-b2e1-54a41294192f');\n",
              "          const dataTable =\n",
              "            await google.colab.kernel.invokeFunction('convertToInteractive',\n",
              "                                                     [key], {});\n",
              "          if (!dataTable) return;\n",
              "\n",
              "          const docLinkHtml = 'Like what you see? Visit the ' +\n",
              "            '<a target=\"_blank\" href=https://colab.research.google.com/notebooks/data_table.ipynb>data table notebook</a>'\n",
              "            + ' to learn more about interactive tables.';\n",
              "          element.innerHTML = '';\n",
              "          dataTable['output_type'] = 'display_data';\n",
              "          await google.colab.output.renderOutput(dataTable, element);\n",
              "          const docLink = document.createElement('div');\n",
              "          docLink.innerHTML = docLinkHtml;\n",
              "          element.appendChild(docLink);\n",
              "        }\n",
              "      </script>\n",
              "    </div>\n",
              "  </div>\n",
              "  "
            ]
          },
          "metadata": {},
          "execution_count": 8
        }
      ]
    },
    {
      "cell_type": "markdown",
      "source": [
        "#Data Cleaning and Exploratory Data Analysis"
      ],
      "metadata": {
        "id": "oJNvc69SKm17"
      }
    },
    {
      "cell_type": "code",
      "source": [
        "#Correlation matrix of different toxicities\n",
        "corr = tox21.corr()\n",
        "\n",
        "f, ax = plt.subplots(figsize=(11, 9))\n",
        "\n",
        "sns.heatmap(corr, vmax=.3, center=0, annot=True,\n",
        "            square=True, linewidths=.5, cbar_kws={\"shrink\": .5})"
      ],
      "metadata": {
        "colab": {
          "base_uri": "https://localhost:8080/",
          "height": 628
        },
        "id": "1XBZnIrBW161",
        "outputId": "2c4f8d90-7347-45cd-bd82-1a2156f86788"
      },
      "execution_count": 36,
      "outputs": [
        {
          "output_type": "execute_result",
          "data": {
            "text/plain": [
              "<matplotlib.axes._subplots.AxesSubplot at 0x7efcd5a1e9a0>"
            ]
          },
          "metadata": {},
          "execution_count": 36
        },
        {
          "output_type": "display_data",
          "data": {
            "text/plain": [
              "<Figure size 792x648 with 2 Axes>"
            ],
            "image/png": "[encoded data removed]"
          },
          "metadata": {
            "needs_background": "light"
          }
        }
      ]
    },
    {
      "cell_type": "markdown",
      "source": [
        "It looks like toxicity is weakly correlated across most target areas, which isn't entirely surprising. For the purposes of this project it won't make sense to use toxicity measurements to predict each other as the end goal is to predict toxicity in molecules that are yet to be studied."
      ],
      "metadata": {
        "id": "njDwbCetXqQX"
      }
    },
    {
      "cell_type": "code",
      "source": [
        "#Making sure none of the columns only contain one unique value:\n",
        "print(\"Proportion of rows missing values in columns: \")\n",
        "for col in tox21.columns:\n",
        "  print(col + \": \" + str(tox21[col].isna().sum()/len(tox21)))"
      ],
      "metadata": {
        "colab": {
          "base_uri": "https://localhost:8080/",
          "height": 0
        },
        "id": "g2ZyhncpXMnf",
        "outputId": "329beb31-a593-4c33-8383-9ad30d2221d7"
      },
      "execution_count": 37,
      "outputs": [
        {
          "output_type": "stream",
          "name": "stdout",
          "text": [
            "Proportion of rows missing values in columns: \n",
            "NR-AR: 0.0722768484229345\n",
            "NR-AR-LBD: 0.13701953773464437\n",
            "NR-AhR: 0.16370833865406717\n",
            "NR-Aromatase: 0.2566722002298557\n",
            "NR-ER: 0.2091686885455242\n",
            "NR-ER-LBD: 0.1118631081598774\n",
            "NR-PPAR-gamma: 0.17635040224747797\n",
            "SR-ARE: 0.2552675264972545\n",
            "SR-ATAD5: 0.09692248754948282\n",
            "SR-HSE: 0.17417954284254886\n",
            "SR-MMP: 0.2580768739624569\n",
            "SR-p53: 0.1349763759417699\n",
            "mol_id: 0.0\n",
            "smiles: 0.0\n"
          ]
        }
      ]
    },
    {
      "cell_type": "markdown",
      "source": [
        "It looks as though we are missing a lot of values. For the purposes of this assignment and for the sake of simplicity I will look at only the NR-AR target as it has the most data available."
      ],
      "metadata": {
        "id": "CsUA5bVqXQ3Q"
      }
    },
    {
      "cell_type": "code",
      "source": [
        "# Dropping the columns corresponding to targets I won't analyze in this assignment, as well as \"mol_id\" as it doesn't correspond to any meaningful information\n",
        "df = df.drop(columns = [\"NR-AR-LBD\", \"NR-AhR\", \"NR-Aromatase\", \"NR-ER\", \"NR-ER-LBD\", \"NR-PPAR-gamma\", \"SR-ARE\", \"SR-ATAD5\", \"SR-HSE\", \"SR-MMP\", \"SR-p53\", \"mol_id\"])"
      ],
      "metadata": {
        "id": "x5NLa18vXU7r"
      },
      "execution_count": 9,
      "outputs": []
    },
    {
      "cell_type": "markdown",
      "source": [
        "Instead of imputing the missing values, I'm going to elect to drop them under the assumption that the data is missing for a reason (for example, that the molecule in question doesn't ever come into contact with that receptor in practice, and so even if it were theoretically toxic it wouldn't ever be a problem)."
      ],
      "metadata": {
        "id": "9IRlc1XfXad7"
      }
    },
    {
      "cell_type": "code",
      "source": [
        "# Dropping rows where NR-AR toxicity hasn't been measured\n",
        "df = df.dropna(subset=['NR-AR'])"
      ],
      "metadata": {
        "id": "siQcrYy5XXxR"
      },
      "execution_count": 10,
      "outputs": []
    },
    {
      "cell_type": "code",
      "source": [
        "df.head()"
      ],
      "metadata": {
        "colab": {
          "base_uri": "https://localhost:8080/",
          "height": 236
        },
        "id": "kyGQ_AeWb30C",
        "outputId": "aa630966-3433-4685-f076-51836e402a94"
      },
      "execution_count": 11,
      "outputs": [
        {
          "output_type": "execute_result",
          "data": {
            "text/plain": [
              "   NR-AR                                smiles    0    1    2    3    4    5  \\\n",
              "0    0.0          CCOc1ccc2nc(S(N)(=O)=O)sc2c1  0.0  0.0  0.0  0.0  0.0  0.0   \n",
              "1    0.0             CCN1C(=O)NC(c2ccccc2)C1=O  0.0  0.0  0.0  0.0  0.0  1.0   \n",
              "3    0.0       CCCN(CC)C(CC)C(=O)Nc1c(C)cccc1C  0.0  1.0  0.0  0.0  0.0  0.0   \n",
              "4    0.0             CC(O)(P(=O)(O)O)P(=O)(O)O  0.0  0.0  0.0  0.0  0.0  0.0   \n",
              "5    0.0  CC(C)(C)OOC(C)(C)CCC(C)(C)OOC(C)(C)C  0.0  0.0  0.0  0.0  0.0  0.0   \n",
              "\n",
              "     6    7  ...  1014  1015  1016  1017  1018  1019  1020  1021  1022  1023  \n",
              "0  0.0  0.0  ...   0.0   0.0   0.0   0.0   0.0   0.0   0.0   0.0   0.0   0.0  \n",
              "1  0.0  0.0  ...   0.0   0.0   0.0   0.0   0.0   1.0   0.0   0.0   0.0   0.0  \n",
              "3  0.0  0.0  ...   0.0   0.0   0.0   0.0   0.0   0.0   0.0   0.0   0.0   0.0  \n",
              "4  0.0  0.0  ...   0.0   0.0   0.0   0.0   0.0   0.0   0.0   0.0   0.0   0.0  \n",
              "5  0.0  0.0  ...   0.0   0.0   0.0   0.0   0.0   0.0   0.0   0.0   0.0   0.0  \n",
              "\n",
              "[5 rows x 1026 columns]"
            ],
            "text/html": [
              "\n",
              "  <div id=\"df-753b7a07-be62-47c9-9b85-0f4055abfd3b\">\n",
              "    <div class=\"colab-df-container\">\n",
              "      <div>\n",
              "<style scoped>\n",
              "    .dataframe tbody tr th:only-of-type {\n",
              "        vertical-align: middle;\n",
              "    }\n",
              "\n",
              "    .dataframe tbody tr th {\n",
              "        vertical-align: top;\n",
              "    }\n",
              "\n",
              "    .dataframe thead th {\n",
              "        text-align: right;\n",
              "    }\n",
              "</style>\n",
              "<table border=\"1\" class=\"dataframe\">\n",
              "  <thead>\n",
              "    <tr style=\"text-align: right;\">\n",
              "      <th></th>\n",
              "      <th>NR-AR</th>\n",
              "      <th>smiles</th>\n",
              "      <th>0</th>\n",
              "      <th>1</th>\n",
              "      <th>2</th>\n",
              "      <th>3</th>\n",
              "      <th>4</th>\n",
              "      <th>5</th>\n",
              "      <th>6</th>\n",
              "      <th>7</th>\n",
              "      <th>...</th>\n",
              "      <th>1014</th>\n",
              "      <th>1015</th>\n",
              "      <th>1016</th>\n",
              "      <th>1017</th>\n",
              "      <th>1018</th>\n",
              "      <th>1019</th>\n",
              "      <th>1020</th>\n",
              "      <th>1021</th>\n",
              "      <th>1022</th>\n",
              "      <th>1023</th>\n",
              "    </tr>\n",
              "  </thead>\n",
              "  <tbody>\n",
              "    <tr>\n",
              "      <th>0</th>\n",
              "      <td>0.0</td>\n",
              "      <td>CCOc1ccc2nc(S(N)(=O)=O)sc2c1</td>\n",
              "      <td>0.0</td>\n",
              "      <td>0.0</td>\n",
              "      <td>0.0</td>\n",
              "      <td>0.0</td>\n",
              "      <td>0.0</td>\n",
              "      <td>0.0</td>\n",
              "      <td>0.0</td>\n",
              "      <td>0.0</td>\n",
              "      <td>...</td>\n",
              "      <td>0.0</td>\n",
              "      <td>0.0</td>\n",
              "      <td>0.0</td>\n",
              "      <td>0.0</td>\n",
              "      <td>0.0</td>\n",
              "      <td>0.0</td>\n",
              "      <td>0.0</td>\n",
              "      <td>0.0</td>\n",
              "      <td>0.0</td>\n",
              "      <td>0.0</td>\n",
              "    </tr>\n",
              "    <tr>\n",
              "      <th>1</th>\n",
              "      <td>0.0</td>\n",
              "      <td>CCN1C(=O)NC(c2ccccc2)C1=O</td>\n",
              "      <td>0.0</td>\n",
              "      <td>0.0</td>\n",
              "      <td>0.0</td>\n",
              "      <td>0.0</td>\n",
              "      <td>0.0</td>\n",
              "      <td>1.0</td>\n",
              "      <td>0.0</td>\n",
              "      <td>0.0</td>\n",
              "      <td>...</td>\n",
              "      <td>0.0</td>\n",
              "      <td>0.0</td>\n",
              "      <td>0.0</td>\n",
              "      <td>0.0</td>\n",
              "      <td>0.0</td>\n",
              "      <td>1.0</td>\n",
              "      <td>0.0</td>\n",
              "      <td>0.0</td>\n",
              "      <td>0.0</td>\n",
              "      <td>0.0</td>\n",
              "    </tr>\n",
              "    <tr>\n",
              "      <th>3</th>\n",
              "      <td>0.0</td>\n",
              "      <td>CCCN(CC)C(CC)C(=O)Nc1c(C)cccc1C</td>\n",
              "      <td>0.0</td>\n",
              "      <td>1.0</td>\n",
              "      <td>0.0</td>\n",
              "      <td>0.0</td>\n",
              "      <td>0.0</td>\n",
              "      <td>0.0</td>\n",
              "      <td>0.0</td>\n",
              "      <td>0.0</td>\n",
              "      <td>...</td>\n",
              "      <td>0.0</td>\n",
              "      <td>0.0</td>\n",
              "      <td>0.0</td>\n",
              "      <td>0.0</td>\n",
              "      <td>0.0</td>\n",
              "      <td>0.0</td>\n",
              "      <td>0.0</td>\n",
              "      <td>0.0</td>\n",
              "      <td>0.0</td>\n",
              "      <td>0.0</td>\n",
              "    </tr>\n",
              "    <tr>\n",
              "      <th>4</th>\n",
              "      <td>0.0</td>\n",
              "      <td>CC(O)(P(=O)(O)O)P(=O)(O)O</td>\n",
              "      <td>0.0</td>\n",
              "      <td>0.0</td>\n",
              "      <td>0.0</td>\n",
              "      <td>0.0</td>\n",
              "      <td>0.0</td>\n",
              "      <td>0.0</td>\n",
              "      <td>0.0</td>\n",
              "      <td>0.0</td>\n",
              "      <td>...</td>\n",
              "      <td>0.0</td>\n",
              "      <td>0.0</td>\n",
              "      <td>0.0</td>\n",
              "      <td>0.0</td>\n",
              "      <td>0.0</td>\n",
              "      <td>0.0</td>\n",
              "      <td>0.0</td>\n",
              "      <td>0.0</td>\n",
              "      <td>0.0</td>\n",
              "      <td>0.0</td>\n",
              "    </tr>\n",
              "    <tr>\n",
              "      <th>5</th>\n",
              "      <td>0.0</td>\n",
              "      <td>CC(C)(C)OOC(C)(C)CCC(C)(C)OOC(C)(C)C</td>\n",
              "      <td>0.0</td>\n",
              "      <td>0.0</td>\n",
              "      <td>0.0</td>\n",
              "      <td>0.0</td>\n",
              "      <td>0.0</td>\n",
              "      <td>0.0</td>\n",
              "      <td>0.0</td>\n",
              "      <td>0.0</td>\n",
              "      <td>...</td>\n",
              "      <td>0.0</td>\n",
              "      <td>0.0</td>\n",
              "      <td>0.0</td>\n",
              "      <td>0.0</td>\n",
              "      <td>0.0</td>\n",
              "      <td>0.0</td>\n",
              "      <td>0.0</td>\n",
              "      <td>0.0</td>\n",
              "      <td>0.0</td>\n",
              "      <td>0.0</td>\n",
              "    </tr>\n",
              "  </tbody>\n",
              "</table>\n",
              "<p>5 rows × 1026 columns</p>\n",
              "</div>\n",
              "      <button class=\"colab-df-convert\" onclick=\"convertToInteractive('df-753b7a07-be62-47c9-9b85-0f4055abfd3b')\"\n",
              "              title=\"Convert this dataframe to an interactive table.\"\n",
              "              style=\"display:none;\">\n",
              "        \n",
              "  <svg xmlns=\"http://www.w3.org/2000/svg\" height=\"24px\"viewBox=\"0 0 24 24\"\n",
              "       width=\"24px\">\n",
              "    <path d=\"M0 0h24v24H0V0z\" fill=\"none\"/>\n",
              "    <path d=\"M18.56 5.44l.94 2.06.94-2.06 2.06-.94-2.06-.94-.94-2.06-.94 2.06-2.06.94zm-11 1L8.5 8.5l.94-2.06 2.06-.94-2.06-.94L8.5 2.5l-.94 2.06-2.06.94zm10 10l.94 2.06.94-2.06 2.06-.94-2.06-.94-.94-2.06-.94 2.06-2.06.94z\"/><path d=\"M17.41 7.96l-1.37-1.37c-.4-.4-.92-.59-1.43-.59-.52 0-1.04.2-1.43.59L10.3 9.45l-7.72 7.72c-.78.78-.78 2.05 0 2.83L4 21.41c.39.39.9.59 1.41.59.51 0 1.02-.2 1.41-.59l7.78-7.78 2.81-2.81c.8-.78.8-2.07 0-2.86zM5.41 20L4 18.59l7.72-7.72 1.47 1.35L5.41 20z\"/>\n",
              "  </svg>\n",
              "      </button>\n",
              "      \n",
              "  <style>\n",
              "    .colab-df-container {\n",
              "      display:flex;\n",
              "      flex-wrap:wrap;\n",
              "      gap: 12px;\n",
              "    }\n",
              "\n",
              "    .colab-df-convert {\n",
              "      background-color: #E8F0FE;\n",
              "      border: none;\n",
              "      border-radius: 50%;\n",
              "      cursor: pointer;\n",
              "      display: none;\n",
              "      fill: #1967D2;\n",
              "      height: 32px;\n",
              "      padding: 0 0 0 0;\n",
              "      width: 32px;\n",
              "    }\n",
              "\n",
              "    .colab-df-convert:hover {\n",
              "      background-color: #E2EBFA;\n",
              "      box-shadow: 0px 1px 2px rgba(60, 64, 67, 0.3), 0px 1px 3px 1px rgba(60, 64, 67, 0.15);\n",
              "      fill: #174EA6;\n",
              "    }\n",
              "\n",
              "    [theme=dark] .colab-df-convert {\n",
              "      background-color: #3B4455;\n",
              "      fill: #D2E3FC;\n",
              "    }\n",
              "\n",
              "    [theme=dark] .colab-df-convert:hover {\n",
              "      background-color: #434B5C;\n",
              "      box-shadow: 0px 1px 3px 1px rgba(0, 0, 0, 0.15);\n",
              "      filter: drop-shadow(0px 1px 2px rgba(0, 0, 0, 0.3));\n",
              "      fill: #FFFFFF;\n",
              "    }\n",
              "  </style>\n",
              "\n",
              "      <script>\n",
              "        const buttonEl =\n",
              "          document.querySelector('#df-753b7a07-be62-47c9-9b85-0f4055abfd3b button.colab-df-convert');\n",
              "        buttonEl.style.display =\n",
              "          google.colab.kernel.accessAllowed ? 'block' : 'none';\n",
              "\n",
              "        async function convertToInteractive(key) {\n",
              "          const element = document.querySelector('#df-753b7a07-be62-47c9-9b85-0f4055abfd3b');\n",
              "          const dataTable =\n",
              "            await google.colab.kernel.invokeFunction('convertToInteractive',\n",
              "                                                     [key], {});\n",
              "          if (!dataTable) return;\n",
              "\n",
              "          const docLinkHtml = 'Like what you see? Visit the ' +\n",
              "            '<a target=\"_blank\" href=https://colab.research.google.com/notebooks/data_table.ipynb>data table notebook</a>'\n",
              "            + ' to learn more about interactive tables.';\n",
              "          element.innerHTML = '';\n",
              "          dataTable['output_type'] = 'display_data';\n",
              "          await google.colab.output.renderOutput(dataTable, element);\n",
              "          const docLink = document.createElement('div');\n",
              "          docLink.innerHTML = docLinkHtml;\n",
              "          element.appendChild(docLink);\n",
              "        }\n",
              "      </script>\n",
              "    </div>\n",
              "  </div>\n",
              "  "
            ]
          },
          "metadata": {},
          "execution_count": 11
        }
      ]
    },
    {
      "cell_type": "code",
      "source": [
        "#Checking for columns corresponding to substructures not found in any of our smiles molecules\n",
        "\n",
        "cols_to_drop = []\n",
        "\n",
        "for col in df.iloc[:,2:]:\n",
        "  if df[col].sum() == 0:\n",
        "    cols_to_drop.append(col)\n",
        "\n",
        "print(len(cols_to_drop))"
      ],
      "metadata": {
        "colab": {
          "base_uri": "https://localhost:8080/",
          "height": 0
        },
        "id": "GlbRyl4Awu1w",
        "outputId": "0471125f-c6bd-41dd-d496-dc1cc99a8c24"
      },
      "execution_count": 13,
      "outputs": [
        {
          "output_type": "stream",
          "name": "stdout",
          "text": [
            "0\n"
          ]
        }
      ]
    },
    {
      "cell_type": "code",
      "source": [
        "df = df.drop(columns = cols_to_drop)"
      ],
      "metadata": {
        "id": "NgJzS0nNxNdz"
      },
      "execution_count": 42,
      "outputs": []
    },
    {
      "cell_type": "code",
      "source": [
        "print(featurizer)"
      ],
      "metadata": {
        "colab": {
          "base_uri": "https://localhost:8080/",
          "height": 0
        },
        "id": "0Ag5KwcxHHQ3",
        "outputId": "989a74c0-7dd1-4107-bacc-417e49e3e11e"
      },
      "execution_count": 15,
      "outputs": [
        {
          "output_type": "stream",
          "name": "stdout",
          "text": [
            "[[0. 0. 0. ... 0. 0. 0.]\n",
            " [0. 0. 0. ... 0. 0. 0.]\n",
            " [0. 0. 0. ... 0. 0. 0.]\n",
            " ...\n",
            " [0. 0. 0. ... 0. 0. 0.]\n",
            " [0. 0. 0. ... 0. 0. 0.]\n",
            " [0. 0. 0. ... 0. 0. 0.]]\n"
          ]
        }
      ]
    },
    {
      "cell_type": "code",
      "source": [
        "df.head()"
      ],
      "metadata": {
        "colab": {
          "base_uri": "https://localhost:8080/",
          "height": 236
        },
        "id": "eL39BU10xSbT",
        "outputId": "91565037-cf36-4052-ff8f-4844cacd2dbb"
      },
      "execution_count": 16,
      "outputs": [
        {
          "output_type": "execute_result",
          "data": {
            "text/plain": [
              "   NR-AR                                smiles    0    1    2    3    4    5  \\\n",
              "0    0.0          CCOc1ccc2nc(S(N)(=O)=O)sc2c1  0.0  0.0  0.0  0.0  0.0  0.0   \n",
              "1    0.0             CCN1C(=O)NC(c2ccccc2)C1=O  0.0  0.0  0.0  0.0  0.0  1.0   \n",
              "3    0.0       CCCN(CC)C(CC)C(=O)Nc1c(C)cccc1C  0.0  1.0  0.0  0.0  0.0  0.0   \n",
              "4    0.0             CC(O)(P(=O)(O)O)P(=O)(O)O  0.0  0.0  0.0  0.0  0.0  0.0   \n",
              "5    0.0  CC(C)(C)OOC(C)(C)CCC(C)(C)OOC(C)(C)C  0.0  0.0  0.0  0.0  0.0  0.0   \n",
              "\n",
              "     6    7  ...  1014  1015  1016  1017  1018  1019  1020  1021  1022  1023  \n",
              "0  0.0  0.0  ...   0.0   0.0   0.0   0.0   0.0   0.0   0.0   0.0   0.0   0.0  \n",
              "1  0.0  0.0  ...   0.0   0.0   0.0   0.0   0.0   1.0   0.0   0.0   0.0   0.0  \n",
              "3  0.0  0.0  ...   0.0   0.0   0.0   0.0   0.0   0.0   0.0   0.0   0.0   0.0  \n",
              "4  0.0  0.0  ...   0.0   0.0   0.0   0.0   0.0   0.0   0.0   0.0   0.0   0.0  \n",
              "5  0.0  0.0  ...   0.0   0.0   0.0   0.0   0.0   0.0   0.0   0.0   0.0   0.0  \n",
              "\n",
              "[5 rows x 1026 columns]"
            ],
            "text/html": [
              "\n",
              "  <div id=\"df-9f686a29-e0f5-4b85-aa75-45215357595c\">\n",
              "    <div class=\"colab-df-container\">\n",
              "      <div>\n",
              "<style scoped>\n",
              "    .dataframe tbody tr th:only-of-type {\n",
              "        vertical-align: middle;\n",
              "    }\n",
              "\n",
              "    .dataframe tbody tr th {\n",
              "        vertical-align: top;\n",
              "    }\n",
              "\n",
              "    .dataframe thead th {\n",
              "        text-align: right;\n",
              "    }\n",
              "</style>\n",
              "<table border=\"1\" class=\"dataframe\">\n",
              "  <thead>\n",
              "    <tr style=\"text-align: right;\">\n",
              "      <th></th>\n",
              "      <th>NR-AR</th>\n",
              "      <th>smiles</th>\n",
              "      <th>0</th>\n",
              "      <th>1</th>\n",
              "      <th>2</th>\n",
              "      <th>3</th>\n",
              "      <th>4</th>\n",
              "      <th>5</th>\n",
              "      <th>6</th>\n",
              "      <th>7</th>\n",
              "      <th>...</th>\n",
              "      <th>1014</th>\n",
              "      <th>1015</th>\n",
              "      <th>1016</th>\n",
              "      <th>1017</th>\n",
              "      <th>1018</th>\n",
              "      <th>1019</th>\n",
              "      <th>1020</th>\n",
              "      <th>1021</th>\n",
              "      <th>1022</th>\n",
              "      <th>1023</th>\n",
              "    </tr>\n",
              "  </thead>\n",
              "  <tbody>\n",
              "    <tr>\n",
              "      <th>0</th>\n",
              "      <td>0.0</td>\n",
              "      <td>CCOc1ccc2nc(S(N)(=O)=O)sc2c1</td>\n",
              "      <td>0.0</td>\n",
              "      <td>0.0</td>\n",
              "      <td>0.0</td>\n",
              "      <td>0.0</td>\n",
              "      <td>0.0</td>\n",
              "      <td>0.0</td>\n",
              "      <td>0.0</td>\n",
              "      <td>0.0</td>\n",
              "      <td>...</td>\n",
              "      <td>0.0</td>\n",
              "      <td>0.0</td>\n",
              "      <td>0.0</td>\n",
              "      <td>0.0</td>\n",
              "      <td>0.0</td>\n",
              "      <td>0.0</td>\n",
              "      <td>0.0</td>\n",
              "      <td>0.0</td>\n",
              "      <td>0.0</td>\n",
              "      <td>0.0</td>\n",
              "    </tr>\n",
              "    <tr>\n",
              "      <th>1</th>\n",
              "      <td>0.0</td>\n",
              "      <td>CCN1C(=O)NC(c2ccccc2)C1=O</td>\n",
              "      <td>0.0</td>\n",
              "      <td>0.0</td>\n",
              "      <td>0.0</td>\n",
              "      <td>0.0</td>\n",
              "      <td>0.0</td>\n",
              "      <td>1.0</td>\n",
              "      <td>0.0</td>\n",
              "      <td>0.0</td>\n",
              "      <td>...</td>\n",
              "      <td>0.0</td>\n",
              "      <td>0.0</td>\n",
              "      <td>0.0</td>\n",
              "      <td>0.0</td>\n",
              "      <td>0.0</td>\n",
              "      <td>1.0</td>\n",
              "      <td>0.0</td>\n",
              "      <td>0.0</td>\n",
              "      <td>0.0</td>\n",
              "      <td>0.0</td>\n",
              "    </tr>\n",
              "    <tr>\n",
              "      <th>3</th>\n",
              "      <td>0.0</td>\n",
              "      <td>CCCN(CC)C(CC)C(=O)Nc1c(C)cccc1C</td>\n",
              "      <td>0.0</td>\n",
              "      <td>1.0</td>\n",
              "      <td>0.0</td>\n",
              "      <td>0.0</td>\n",
              "      <td>0.0</td>\n",
              "      <td>0.0</td>\n",
              "      <td>0.0</td>\n",
              "      <td>0.0</td>\n",
              "      <td>...</td>\n",
              "      <td>0.0</td>\n",
              "      <td>0.0</td>\n",
              "      <td>0.0</td>\n",
              "      <td>0.0</td>\n",
              "      <td>0.0</td>\n",
              "      <td>0.0</td>\n",
              "      <td>0.0</td>\n",
              "      <td>0.0</td>\n",
              "      <td>0.0</td>\n",
              "      <td>0.0</td>\n",
              "    </tr>\n",
              "    <tr>\n",
              "      <th>4</th>\n",
              "      <td>0.0</td>\n",
              "      <td>CC(O)(P(=O)(O)O)P(=O)(O)O</td>\n",
              "      <td>0.0</td>\n",
              "      <td>0.0</td>\n",
              "      <td>0.0</td>\n",
              "      <td>0.0</td>\n",
              "      <td>0.0</td>\n",
              "      <td>0.0</td>\n",
              "      <td>0.0</td>\n",
              "      <td>0.0</td>\n",
              "      <td>...</td>\n",
              "      <td>0.0</td>\n",
              "      <td>0.0</td>\n",
              "      <td>0.0</td>\n",
              "      <td>0.0</td>\n",
              "      <td>0.0</td>\n",
              "      <td>0.0</td>\n",
              "      <td>0.0</td>\n",
              "      <td>0.0</td>\n",
              "      <td>0.0</td>\n",
              "      <td>0.0</td>\n",
              "    </tr>\n",
              "    <tr>\n",
              "      <th>5</th>\n",
              "      <td>0.0</td>\n",
              "      <td>CC(C)(C)OOC(C)(C)CCC(C)(C)OOC(C)(C)C</td>\n",
              "      <td>0.0</td>\n",
              "      <td>0.0</td>\n",
              "      <td>0.0</td>\n",
              "      <td>0.0</td>\n",
              "      <td>0.0</td>\n",
              "      <td>0.0</td>\n",
              "      <td>0.0</td>\n",
              "      <td>0.0</td>\n",
              "      <td>...</td>\n",
              "      <td>0.0</td>\n",
              "      <td>0.0</td>\n",
              "      <td>0.0</td>\n",
              "      <td>0.0</td>\n",
              "      <td>0.0</td>\n",
              "      <td>0.0</td>\n",
              "      <td>0.0</td>\n",
              "      <td>0.0</td>\n",
              "      <td>0.0</td>\n",
              "      <td>0.0</td>\n",
              "    </tr>\n",
              "  </tbody>\n",
              "</table>\n",
              "<p>5 rows × 1026 columns</p>\n",
              "</div>\n",
              "      <button class=\"colab-df-convert\" onclick=\"convertToInteractive('df-9f686a29-e0f5-4b85-aa75-45215357595c')\"\n",
              "              title=\"Convert this dataframe to an interactive table.\"\n",
              "              style=\"display:none;\">\n",
              "        \n",
              "  <svg xmlns=\"http://www.w3.org/2000/svg\" height=\"24px\"viewBox=\"0 0 24 24\"\n",
              "       width=\"24px\">\n",
              "    <path d=\"M0 0h24v24H0V0z\" fill=\"none\"/>\n",
              "    <path d=\"M18.56 5.44l.94 2.06.94-2.06 2.06-.94-2.06-.94-.94-2.06-.94 2.06-2.06.94zm-11 1L8.5 8.5l.94-2.06 2.06-.94-2.06-.94L8.5 2.5l-.94 2.06-2.06.94zm10 10l.94 2.06.94-2.06 2.06-.94-2.06-.94-.94-2.06-.94 2.06-2.06.94z\"/><path d=\"M17.41 7.96l-1.37-1.37c-.4-.4-.92-.59-1.43-.59-.52 0-1.04.2-1.43.59L10.3 9.45l-7.72 7.72c-.78.78-.78 2.05 0 2.83L4 21.41c.39.39.9.59 1.41.59.51 0 1.02-.2 1.41-.59l7.78-7.78 2.81-2.81c.8-.78.8-2.07 0-2.86zM5.41 20L4 18.59l7.72-7.72 1.47 1.35L5.41 20z\"/>\n",
              "  </svg>\n",
              "      </button>\n",
              "      \n",
              "  <style>\n",
              "    .colab-df-container {\n",
              "      display:flex;\n",
              "      flex-wrap:wrap;\n",
              "      gap: 12px;\n",
              "    }\n",
              "\n",
              "    .colab-df-convert {\n",
              "      background-color: #E8F0FE;\n",
              "      border: none;\n",
              "      border-radius: 50%;\n",
              "      cursor: pointer;\n",
              "      display: none;\n",
              "      fill: #1967D2;\n",
              "      height: 32px;\n",
              "      padding: 0 0 0 0;\n",
              "      width: 32px;\n",
              "    }\n",
              "\n",
              "    .colab-df-convert:hover {\n",
              "      background-color: #E2EBFA;\n",
              "      box-shadow: 0px 1px 2px rgba(60, 64, 67, 0.3), 0px 1px 3px 1px rgba(60, 64, 67, 0.15);\n",
              "      fill: #174EA6;\n",
              "    }\n",
              "\n",
              "    [theme=dark] .colab-df-convert {\n",
              "      background-color: #3B4455;\n",
              "      fill: #D2E3FC;\n",
              "    }\n",
              "\n",
              "    [theme=dark] .colab-df-convert:hover {\n",
              "      background-color: #434B5C;\n",
              "      box-shadow: 0px 1px 3px 1px rgba(0, 0, 0, 0.15);\n",
              "      filter: drop-shadow(0px 1px 2px rgba(0, 0, 0, 0.3));\n",
              "      fill: #FFFFFF;\n",
              "    }\n",
              "  </style>\n",
              "\n",
              "      <script>\n",
              "        const buttonEl =\n",
              "          document.querySelector('#df-9f686a29-e0f5-4b85-aa75-45215357595c button.colab-df-convert');\n",
              "        buttonEl.style.display =\n",
              "          google.colab.kernel.accessAllowed ? 'block' : 'none';\n",
              "\n",
              "        async function convertToInteractive(key) {\n",
              "          const element = document.querySelector('#df-9f686a29-e0f5-4b85-aa75-45215357595c');\n",
              "          const dataTable =\n",
              "            await google.colab.kernel.invokeFunction('convertToInteractive',\n",
              "                                                     [key], {});\n",
              "          if (!dataTable) return;\n",
              "\n",
              "          const docLinkHtml = 'Like what you see? Visit the ' +\n",
              "            '<a target=\"_blank\" href=https://colab.research.google.com/notebooks/data_table.ipynb>data table notebook</a>'\n",
              "            + ' to learn more about interactive tables.';\n",
              "          element.innerHTML = '';\n",
              "          dataTable['output_type'] = 'display_data';\n",
              "          await google.colab.output.renderOutput(dataTable, element);\n",
              "          const docLink = document.createElement('div');\n",
              "          docLink.innerHTML = docLinkHtml;\n",
              "          element.appendChild(docLink);\n",
              "        }\n",
              "      </script>\n",
              "    </div>\n",
              "  </div>\n",
              "  "
            ]
          },
          "metadata": {},
          "execution_count": 16
        }
      ]
    },
    {
      "cell_type": "code",
      "source": [
        "# Getting the names of the substructures\n",
        "\n",
        "colnames = [\"NR-AR\", \"smiles\"]\n",
        "\n",
        "for col in df.iloc[:,2:]:\n",
        "  colnames.append(df[col][df[col].first_valid_index()]['smiles'])"
      ],
      "metadata": {
        "id": "HDhjJL1bzLbO"
      },
      "execution_count": 44,
      "outputs": []
    },
    {
      "cell_type": "code",
      "source": [
        "df.columns = colnames"
      ],
      "metadata": {
        "id": "4MvN0U0h2DH6"
      },
      "execution_count": 45,
      "outputs": []
    },
    {
      "cell_type": "code",
      "source": [
        "count = 0\n",
        "for col in colnames:\n",
        "  if col == '':\n",
        "    count = count + 1\n",
        "\n",
        "print(count)\n",
        "\n",
        "# A lot of empty smiles entries"
      ],
      "metadata": {
        "colab": {
          "base_uri": "https://localhost:8080/",
          "height": 0
        },
        "id": "fEnT75wd2gWq",
        "outputId": "586b25d7-f174-40a1-ddca-f1ef8e12b1f1"
      },
      "execution_count": 46,
      "outputs": [
        {
          "output_type": "stream",
          "name": "stdout",
          "text": [
            "157\n"
          ]
        }
      ]
    },
    {
      "cell_type": "code",
      "source": [
        "df = df.drop(columns = '')"
      ],
      "metadata": {
        "id": "h6aON8qZ2whN"
      },
      "execution_count": 47,
      "outputs": []
    },
    {
      "cell_type": "code",
      "source": [
        "\n",
        "df = df.fillna(0)"
      ],
      "metadata": {
        "id": "1E7oQ87t-FRK"
      },
      "execution_count": 59,
      "outputs": []
    },
    {
      "cell_type": "code",
      "source": [
        "df.head()"
      ],
      "metadata": {
        "colab": {
          "base_uri": "https://localhost:8080/",
          "height": 490
        },
        "id": "xZbJMgwz2XYY",
        "outputId": "88ef875e-52b7-4dfb-d141-8a5edf4ab8ab"
      },
      "execution_count": 60,
      "outputs": [
        {
          "output_type": "execute_result",
          "data": {
            "text/plain": [
              "   NR-AR                                smiles  \\\n",
              "0    0.0          CCOc1ccc2nc(S(N)(=O)=O)sc2c1   \n",
              "1    0.0             CCN1C(=O)NC(c2ccccc2)C1=O   \n",
              "3    0.0       CCCN(CC)C(CC)C(=O)Nc1c(C)cccc1C   \n",
              "4    0.0             CC(O)(P(=O)(O)O)P(=O)(O)O   \n",
              "5    0.0  CC(C)(C)OOC(C)(C)CCC(C)(C)OOC(C)(C)C   \n",
              "\n",
              "                             cc(O)cc(c)s                            cc(c)OCC  \\\n",
              "0  {'smiles': 'cc(O)cc(c)s', 'count': 1}  {'smiles': 'cc(c)OCC', 'count': 1}   \n",
              "1                                      0                                   0   \n",
              "3                                      0                                   0   \n",
              "4                                      0                                   0   \n",
              "5                                      0                                   0   \n",
              "\n",
              "                             cc(c)nc(s)S                            ccc(cc)OC  \\\n",
              "0  {'smiles': 'cc(c)nc(s)S', 'count': 1}  {'smiles': 'ccc(cc)OC', 'count': 1}   \n",
              "1                                      0                                    0   \n",
              "3                                      0                                    0   \n",
              "4                                      0                                    0   \n",
              "5                                      0                                    0   \n",
              "\n",
              "                             ccc                            ccc  \\\n",
              "0  {'smiles': 'ccc', 'count': 2}  {'smiles': 'ccc', 'count': 1}   \n",
              "1  {'smiles': 'ccc', 'count': 2}                              0   \n",
              "3  {'smiles': 'ccc', 'count': 2}                              0   \n",
              "4                              0                              0   \n",
              "5                              0                              0   \n",
              "\n",
              "                             cnc                            ccc(sc)c(c)n  ...  \\\n",
              "0  {'smiles': 'cnc', 'count': 1}  {'smiles': 'ccc(sc)c(c)n', 'count': 1}  ...   \n",
              "1                              0                                       0  ...   \n",
              "3                              0                                       0  ...   \n",
              "4                              0                                       0  ...   \n",
              "5                              0                                       0  ...   \n",
              "\n",
              "  CC(O)CC(N)=O CCN(CC)C(C)=O CC(O)CN(C)C c[nH]c(c([nH])=O)c(n)n cn(c)CCC  \\\n",
              "0            0             0           0                      0        0   \n",
              "1            0             0           0                      0        0   \n",
              "3            0             0           0                      0        0   \n",
              "4            0             0           0                      0        0   \n",
              "5            0             0           0                      0        0   \n",
              "\n",
              "  cc(n)n(CC)c([nH])=O cnc(c(c)[nH])n(c)C cc(C)c(OC)c(c)O cCN(CC)C(c)C  \\\n",
              "0                   0                  0               0            0   \n",
              "1                   0                  0               0            0   \n",
              "3                   0                  0               0            0   \n",
              "4                   0                  0               0            0   \n",
              "5                   0                  0               0            0   \n",
              "\n",
              "  cc(c)CN(C)C  \n",
              "0           0  \n",
              "1           0  \n",
              "3           0  \n",
              "4           0  \n",
              "5           0  \n",
              "\n",
              "[5 rows x 25416 columns]"
            ],
            "text/html": [
              "\n",
              "  <div id=\"df-99ffdd1d-e4c3-4f9a-8813-d539e8eb3e99\">\n",
              "    <div class=\"colab-df-container\">\n",
              "      <div>\n",
              "<style scoped>\n",
              "    .dataframe tbody tr th:only-of-type {\n",
              "        vertical-align: middle;\n",
              "    }\n",
              "\n",
              "    .dataframe tbody tr th {\n",
              "        vertical-align: top;\n",
              "    }\n",
              "\n",
              "    .dataframe thead th {\n",
              "        text-align: right;\n",
              "    }\n",
              "</style>\n",
              "<table border=\"1\" class=\"dataframe\">\n",
              "  <thead>\n",
              "    <tr style=\"text-align: right;\">\n",
              "      <th></th>\n",
              "      <th>NR-AR</th>\n",
              "      <th>smiles</th>\n",
              "      <th>cc(O)cc(c)s</th>\n",
              "      <th>cc(c)OCC</th>\n",
              "      <th>cc(c)nc(s)S</th>\n",
              "      <th>ccc(cc)OC</th>\n",
              "      <th>ccc</th>\n",
              "      <th>ccc</th>\n",
              "      <th>cnc</th>\n",
              "      <th>ccc(sc)c(c)n</th>\n",
              "      <th>...</th>\n",
              "      <th>CC(O)CC(N)=O</th>\n",
              "      <th>CCN(CC)C(C)=O</th>\n",
              "      <th>CC(O)CN(C)C</th>\n",
              "      <th>c[nH]c(c([nH])=O)c(n)n</th>\n",
              "      <th>cn(c)CCC</th>\n",
              "      <th>cc(n)n(CC)c([nH])=O</th>\n",
              "      <th>cnc(c(c)[nH])n(c)C</th>\n",
              "      <th>cc(C)c(OC)c(c)O</th>\n",
              "      <th>cCN(CC)C(c)C</th>\n",
              "      <th>cc(c)CN(C)C</th>\n",
              "    </tr>\n",
              "  </thead>\n",
              "  <tbody>\n",
              "    <tr>\n",
              "      <th>0</th>\n",
              "      <td>0.0</td>\n",
              "      <td>CCOc1ccc2nc(S(N)(=O)=O)sc2c1</td>\n",
              "      <td>{'smiles': 'cc(O)cc(c)s', 'count': 1}</td>\n",
              "      <td>{'smiles': 'cc(c)OCC', 'count': 1}</td>\n",
              "      <td>{'smiles': 'cc(c)nc(s)S', 'count': 1}</td>\n",
              "      <td>{'smiles': 'ccc(cc)OC', 'count': 1}</td>\n",
              "      <td>{'smiles': 'ccc', 'count': 2}</td>\n",
              "      <td>{'smiles': 'ccc', 'count': 1}</td>\n",
              "      <td>{'smiles': 'cnc', 'count': 1}</td>\n",
              "      <td>{'smiles': 'ccc(sc)c(c)n', 'count': 1}</td>\n",
              "      <td>...</td>\n",
              "      <td>0</td>\n",
              "      <td>0</td>\n",
              "      <td>0</td>\n",
              "      <td>0</td>\n",
              "      <td>0</td>\n",
              "      <td>0</td>\n",
              "      <td>0</td>\n",
              "      <td>0</td>\n",
              "      <td>0</td>\n",
              "      <td>0</td>\n",
              "    </tr>\n",
              "    <tr>\n",
              "      <th>1</th>\n",
              "      <td>0.0</td>\n",
              "      <td>CCN1C(=O)NC(c2ccccc2)C1=O</td>\n",
              "      <td>0</td>\n",
              "      <td>0</td>\n",
              "      <td>0</td>\n",
              "      <td>0</td>\n",
              "      <td>{'smiles': 'ccc', 'count': 2}</td>\n",
              "      <td>0</td>\n",
              "      <td>0</td>\n",
              "      <td>0</td>\n",
              "      <td>...</td>\n",
              "      <td>0</td>\n",
              "      <td>0</td>\n",
              "      <td>0</td>\n",
              "      <td>0</td>\n",
              "      <td>0</td>\n",
              "      <td>0</td>\n",
              "      <td>0</td>\n",
              "      <td>0</td>\n",
              "      <td>0</td>\n",
              "      <td>0</td>\n",
              "    </tr>\n",
              "    <tr>\n",
              "      <th>3</th>\n",
              "      <td>0.0</td>\n",
              "      <td>CCCN(CC)C(CC)C(=O)Nc1c(C)cccc1C</td>\n",
              "      <td>0</td>\n",
              "      <td>0</td>\n",
              "      <td>0</td>\n",
              "      <td>0</td>\n",
              "      <td>{'smiles': 'ccc', 'count': 2}</td>\n",
              "      <td>0</td>\n",
              "      <td>0</td>\n",
              "      <td>0</td>\n",
              "      <td>...</td>\n",
              "      <td>0</td>\n",
              "      <td>0</td>\n",
              "      <td>0</td>\n",
              "      <td>0</td>\n",
              "      <td>0</td>\n",
              "      <td>0</td>\n",
              "      <td>0</td>\n",
              "      <td>0</td>\n",
              "      <td>0</td>\n",
              "      <td>0</td>\n",
              "    </tr>\n",
              "    <tr>\n",
              "      <th>4</th>\n",
              "      <td>0.0</td>\n",
              "      <td>CC(O)(P(=O)(O)O)P(=O)(O)O</td>\n",
              "      <td>0</td>\n",
              "      <td>0</td>\n",
              "      <td>0</td>\n",
              "      <td>0</td>\n",
              "      <td>0</td>\n",
              "      <td>0</td>\n",
              "      <td>0</td>\n",
              "      <td>0</td>\n",
              "      <td>...</td>\n",
              "      <td>0</td>\n",
              "      <td>0</td>\n",
              "      <td>0</td>\n",
              "      <td>0</td>\n",
              "      <td>0</td>\n",
              "      <td>0</td>\n",
              "      <td>0</td>\n",
              "      <td>0</td>\n",
              "      <td>0</td>\n",
              "      <td>0</td>\n",
              "    </tr>\n",
              "    <tr>\n",
              "      <th>5</th>\n",
              "      <td>0.0</td>\n",
              "      <td>CC(C)(C)OOC(C)(C)CCC(C)(C)OOC(C)(C)C</td>\n",
              "      <td>0</td>\n",
              "      <td>0</td>\n",
              "      <td>0</td>\n",
              "      <td>0</td>\n",
              "      <td>0</td>\n",
              "      <td>0</td>\n",
              "      <td>0</td>\n",
              "      <td>0</td>\n",
              "      <td>...</td>\n",
              "      <td>0</td>\n",
              "      <td>0</td>\n",
              "      <td>0</td>\n",
              "      <td>0</td>\n",
              "      <td>0</td>\n",
              "      <td>0</td>\n",
              "      <td>0</td>\n",
              "      <td>0</td>\n",
              "      <td>0</td>\n",
              "      <td>0</td>\n",
              "    </tr>\n",
              "  </tbody>\n",
              "</table>\n",
              "<p>5 rows × 25416 columns</p>\n",
              "</div>\n",
              "      <button class=\"colab-df-convert\" onclick=\"convertToInteractive('df-99ffdd1d-e4c3-4f9a-8813-d539e8eb3e99')\"\n",
              "              title=\"Convert this dataframe to an interactive table.\"\n",
              "              style=\"display:none;\">\n",
              "        \n",
              "  <svg xmlns=\"http://www.w3.org/2000/svg\" height=\"24px\"viewBox=\"0 0 24 24\"\n",
              "       width=\"24px\">\n",
              "    <path d=\"M0 0h24v24H0V0z\" fill=\"none\"/>\n",
              "    <path d=\"M18.56 5.44l.94 2.06.94-2.06 2.06-.94-2.06-.94-.94-2.06-.94 2.06-2.06.94zm-11 1L8.5 8.5l.94-2.06 2.06-.94-2.06-.94L8.5 2.5l-.94 2.06-2.06.94zm10 10l.94 2.06.94-2.06 2.06-.94-2.06-.94-.94-2.06-.94 2.06-2.06.94z\"/><path d=\"M17.41 7.96l-1.37-1.37c-.4-.4-.92-.59-1.43-.59-.52 0-1.04.2-1.43.59L10.3 9.45l-7.72 7.72c-.78.78-.78 2.05 0 2.83L4 21.41c.39.39.9.59 1.41.59.51 0 1.02-.2 1.41-.59l7.78-7.78 2.81-2.81c.8-.78.8-2.07 0-2.86zM5.41 20L4 18.59l7.72-7.72 1.47 1.35L5.41 20z\"/>\n",
              "  </svg>\n",
              "      </button>\n",
              "      \n",
              "  <style>\n",
              "    .colab-df-container {\n",
              "      display:flex;\n",
              "      flex-wrap:wrap;\n",
              "      gap: 12px;\n",
              "    }\n",
              "\n",
              "    .colab-df-convert {\n",
              "      background-color: #E8F0FE;\n",
              "      border: none;\n",
              "      border-radius: 50%;\n",
              "      cursor: pointer;\n",
              "      display: none;\n",
              "      fill: #1967D2;\n",
              "      height: 32px;\n",
              "      padding: 0 0 0 0;\n",
              "      width: 32px;\n",
              "    }\n",
              "\n",
              "    .colab-df-convert:hover {\n",
              "      background-color: #E2EBFA;\n",
              "      box-shadow: 0px 1px 2px rgba(60, 64, 67, 0.3), 0px 1px 3px 1px rgba(60, 64, 67, 0.15);\n",
              "      fill: #174EA6;\n",
              "    }\n",
              "\n",
              "    [theme=dark] .colab-df-convert {\n",
              "      background-color: #3B4455;\n",
              "      fill: #D2E3FC;\n",
              "    }\n",
              "\n",
              "    [theme=dark] .colab-df-convert:hover {\n",
              "      background-color: #434B5C;\n",
              "      box-shadow: 0px 1px 3px 1px rgba(0, 0, 0, 0.15);\n",
              "      filter: drop-shadow(0px 1px 2px rgba(0, 0, 0, 0.3));\n",
              "      fill: #FFFFFF;\n",
              "    }\n",
              "  </style>\n",
              "\n",
              "      <script>\n",
              "        const buttonEl =\n",
              "          document.querySelector('#df-99ffdd1d-e4c3-4f9a-8813-d539e8eb3e99 button.colab-df-convert');\n",
              "        buttonEl.style.display =\n",
              "          google.colab.kernel.accessAllowed ? 'block' : 'none';\n",
              "\n",
              "        async function convertToInteractive(key) {\n",
              "          const element = document.querySelector('#df-99ffdd1d-e4c3-4f9a-8813-d539e8eb3e99');\n",
              "          const dataTable =\n",
              "            await google.colab.kernel.invokeFunction('convertToInteractive',\n",
              "                                                     [key], {});\n",
              "          if (!dataTable) return;\n",
              "\n",
              "          const docLinkHtml = 'Like what you see? Visit the ' +\n",
              "            '<a target=\"_blank\" href=https://colab.research.google.com/notebooks/data_table.ipynb>data table notebook</a>'\n",
              "            + ' to learn more about interactive tables.';\n",
              "          element.innerHTML = '';\n",
              "          dataTable['output_type'] = 'display_data';\n",
              "          await google.colab.output.renderOutput(dataTable, element);\n",
              "          const docLink = document.createElement('div');\n",
              "          docLink.innerHTML = docLinkHtml;\n",
              "          element.appendChild(docLink);\n",
              "        }\n",
              "      </script>\n",
              "    </div>\n",
              "  </div>\n",
              "  "
            ]
          },
          "metadata": {},
          "execution_count": 60
        }
      ]
    },
    {
      "cell_type": "code",
      "source": [
        "# Getting substructure occurences from the dictionaries they're in\n",
        "#cols = df.iloc[:,2:].columns\n",
        "#df[cols] = df[cols].applymap(lambda x: x['count'])"
      ],
      "metadata": {
        "colab": {
          "base_uri": "https://localhost:8080/",
          "height": 311
        },
        "id": "flO8DDlY4P9K",
        "outputId": "e33fbc54-e7ac-49c0-adb1-cbaea0d50e5e"
      },
      "execution_count": 62,
      "outputs": [
        {
          "output_type": "error",
          "ename": "TypeError",
          "evalue": "ignored",
          "traceback": [
            "\u001b[0;31m---------------------------------------------------------------------------\u001b[0m",
            "\u001b[0;31mTypeError\u001b[0m                                 Traceback (most recent call last)",
            "\u001b[0;32m<ipython-input-62-dac43a5893d6>\u001b[0m in \u001b[0;36m<module>\u001b[0;34m\u001b[0m\n\u001b[1;32m      1\u001b[0m \u001b[0;31m# Getting substructure occurences from the dictionaries they're in\u001b[0m\u001b[0;34m\u001b[0m\u001b[0;34m\u001b[0m\u001b[0;34m\u001b[0m\u001b[0m\n\u001b[1;32m      2\u001b[0m \u001b[0mcols\u001b[0m \u001b[0;34m=\u001b[0m \u001b[0mdf\u001b[0m\u001b[0;34m.\u001b[0m\u001b[0miloc\u001b[0m\u001b[0;34m[\u001b[0m\u001b[0;34m:\u001b[0m\u001b[0;34m,\u001b[0m\u001b[0;36m2\u001b[0m\u001b[0;34m:\u001b[0m\u001b[0;34m]\u001b[0m\u001b[0;34m.\u001b[0m\u001b[0mcolumns\u001b[0m\u001b[0;34m\u001b[0m\u001b[0;34m\u001b[0m\u001b[0m\n\u001b[0;32m----> 3\u001b[0;31m \u001b[0mdf\u001b[0m\u001b[0;34m[\u001b[0m\u001b[0;34m'cc(O)cc(c)s'\u001b[0m\u001b[0;34m]\u001b[0m \u001b[0;34m=\u001b[0m \u001b[0mdf\u001b[0m\u001b[0;34m[\u001b[0m\u001b[0;34m'cc(O)cc(c)s'\u001b[0m\u001b[0;34m]\u001b[0m\u001b[0;34m.\u001b[0m\u001b[0mapplymap\u001b[0m\u001b[0;34m(\u001b[0m\u001b[0;32mlambda\u001b[0m \u001b[0mx\u001b[0m\u001b[0;34m:\u001b[0m \u001b[0mx\u001b[0m\u001b[0;34m[\u001b[0m\u001b[0;34m'count'\u001b[0m\u001b[0;34m]\u001b[0m\u001b[0;34m)\u001b[0m\u001b[0;34m\u001b[0m\u001b[0;34m\u001b[0m\u001b[0m\n\u001b[0m",
            "\u001b[0;32m/usr/local/lib/python3.8/dist-packages/pandas/core/frame.py\u001b[0m in \u001b[0;36mapplymap\u001b[0;34m(self, func, na_action, **kwargs)\u001b[0m\n\u001b[1;32m   8823\u001b[0m             \u001b[0;32mreturn\u001b[0m \u001b[0mlib\u001b[0m\u001b[0;34m.\u001b[0m\u001b[0mmap_infer\u001b[0m\u001b[0;34m(\u001b[0m\u001b[0mx\u001b[0m\u001b[0;34m.\u001b[0m\u001b[0mastype\u001b[0m\u001b[0;34m(\u001b[0m\u001b[0mobject\u001b[0m\u001b[0;34m)\u001b[0m\u001b[0;34m.\u001b[0m\u001b[0m_values\u001b[0m\u001b[0;34m,\u001b[0m \u001b[0mfunc\u001b[0m\u001b[0;34m,\u001b[0m \u001b[0mignore_na\u001b[0m\u001b[0;34m=\u001b[0m\u001b[0mignore_na\u001b[0m\u001b[0;34m)\u001b[0m\u001b[0;34m\u001b[0m\u001b[0;34m\u001b[0m\u001b[0m\n\u001b[1;32m   8824\u001b[0m \u001b[0;34m\u001b[0m\u001b[0m\n\u001b[0;32m-> 8825\u001b[0;31m         \u001b[0;32mreturn\u001b[0m \u001b[0mself\u001b[0m\u001b[0;34m.\u001b[0m\u001b[0mapply\u001b[0m\u001b[0;34m(\u001b[0m\u001b[0minfer\u001b[0m\u001b[0;34m)\u001b[0m\u001b[0;34m.\u001b[0m\u001b[0m__finalize__\u001b[0m\u001b[0;34m(\u001b[0m\u001b[0mself\u001b[0m\u001b[0;34m,\u001b[0m \u001b[0;34m\"applymap\"\u001b[0m\u001b[0;34m)\u001b[0m\u001b[0;34m\u001b[0m\u001b[0;34m\u001b[0m\u001b[0m\n\u001b[0m\u001b[1;32m   8826\u001b[0m \u001b[0;34m\u001b[0m\u001b[0m\n\u001b[1;32m   8827\u001b[0m     \u001b[0;31m# ----------------------------------------------------------------------\u001b[0m\u001b[0;34m\u001b[0m\u001b[0;34m\u001b[0m\u001b[0;34m\u001b[0m\u001b[0m\n",
            "\u001b[0;32m/usr/local/lib/python3.8/dist-packages/pandas/core/frame.py\u001b[0m in \u001b[0;36mapply\u001b[0;34m(self, func, axis, raw, result_type, args, **kwargs)\u001b[0m\n\u001b[1;32m   8738\u001b[0m             \u001b[0mkwargs\u001b[0m\u001b[0;34m=\u001b[0m\u001b[0mkwargs\u001b[0m\u001b[0;34m,\u001b[0m\u001b[0;34m\u001b[0m\u001b[0;34m\u001b[0m\u001b[0m\n\u001b[1;32m   8739\u001b[0m         )\n\u001b[0;32m-> 8740\u001b[0;31m         \u001b[0;32mreturn\u001b[0m \u001b[0mop\u001b[0m\u001b[0;34m.\u001b[0m\u001b[0mapply\u001b[0m\u001b[0;34m(\u001b[0m\u001b[0;34m)\u001b[0m\u001b[0;34m\u001b[0m\u001b[0;34m\u001b[0m\u001b[0m\n\u001b[0m\u001b[1;32m   8741\u001b[0m \u001b[0;34m\u001b[0m\u001b[0m\n\u001b[1;32m   8742\u001b[0m     def applymap(\n",
            "\u001b[0;32m/usr/local/lib/python3.8/dist-packages/pandas/core/apply.py\u001b[0m in \u001b[0;36mapply\u001b[0;34m(self)\u001b[0m\n\u001b[1;32m    686\u001b[0m             \u001b[0;32mreturn\u001b[0m \u001b[0mself\u001b[0m\u001b[0;34m.\u001b[0m\u001b[0mapply_raw\u001b[0m\u001b[0;34m(\u001b[0m\u001b[0;34m)\u001b[0m\u001b[0;34m\u001b[0m\u001b[0;34m\u001b[0m\u001b[0m\n\u001b[1;32m    687\u001b[0m \u001b[0;34m\u001b[0m\u001b[0m\n\u001b[0;32m--> 688\u001b[0;31m         \u001b[0;32mreturn\u001b[0m \u001b[0mself\u001b[0m\u001b[0;34m.\u001b[0m\u001b[0mapply_standard\u001b[0m\u001b[0;34m(\u001b[0m\u001b[0;34m)\u001b[0m\u001b[0;34m\u001b[0m\u001b[0;34m\u001b[0m\u001b[0m\n\u001b[0m\u001b[1;32m    689\u001b[0m \u001b[0;34m\u001b[0m\u001b[0m\n\u001b[1;32m    690\u001b[0m     \u001b[0;32mdef\u001b[0m \u001b[0magg\u001b[0m\u001b[0;34m(\u001b[0m\u001b[0mself\u001b[0m\u001b[0;34m)\u001b[0m\u001b[0;34m:\u001b[0m\u001b[0;34m\u001b[0m\u001b[0;34m\u001b[0m\u001b[0m\n",
            "\u001b[0;32m/usr/local/lib/python3.8/dist-packages/pandas/core/apply.py\u001b[0m in \u001b[0;36mapply_standard\u001b[0;34m(self)\u001b[0m\n\u001b[1;32m    810\u001b[0m \u001b[0;34m\u001b[0m\u001b[0m\n\u001b[1;32m    811\u001b[0m     \u001b[0;32mdef\u001b[0m \u001b[0mapply_standard\u001b[0m\u001b[0;34m(\u001b[0m\u001b[0mself\u001b[0m\u001b[0;34m)\u001b[0m\u001b[0;34m:\u001b[0m\u001b[0;34m\u001b[0m\u001b[0;34m\u001b[0m\u001b[0m\n\u001b[0;32m--> 812\u001b[0;31m         \u001b[0mresults\u001b[0m\u001b[0;34m,\u001b[0m \u001b[0mres_index\u001b[0m \u001b[0;34m=\u001b[0m \u001b[0mself\u001b[0m\u001b[0;34m.\u001b[0m\u001b[0mapply_series_generator\u001b[0m\u001b[0;34m(\u001b[0m\u001b[0;34m)\u001b[0m\u001b[0;34m\u001b[0m\u001b[0;34m\u001b[0m\u001b[0m\n\u001b[0m\u001b[1;32m    813\u001b[0m \u001b[0;34m\u001b[0m\u001b[0m\n\u001b[1;32m    814\u001b[0m         \u001b[0;31m# wrap results\u001b[0m\u001b[0;34m\u001b[0m\u001b[0;34m\u001b[0m\u001b[0;34m\u001b[0m\u001b[0m\n",
            "\u001b[0;32m/usr/local/lib/python3.8/dist-packages/pandas/core/apply.py\u001b[0m in \u001b[0;36mapply_series_generator\u001b[0;34m(self)\u001b[0m\n\u001b[1;32m    826\u001b[0m             \u001b[0;32mfor\u001b[0m \u001b[0mi\u001b[0m\u001b[0;34m,\u001b[0m \u001b[0mv\u001b[0m \u001b[0;32min\u001b[0m \u001b[0menumerate\u001b[0m\u001b[0;34m(\u001b[0m\u001b[0mseries_gen\u001b[0m\u001b[0;34m)\u001b[0m\u001b[0;34m:\u001b[0m\u001b[0;34m\u001b[0m\u001b[0;34m\u001b[0m\u001b[0m\n\u001b[1;32m    827\u001b[0m                 \u001b[0;31m# ignore SettingWithCopy here in case the user mutates\u001b[0m\u001b[0;34m\u001b[0m\u001b[0;34m\u001b[0m\u001b[0;34m\u001b[0m\u001b[0m\n\u001b[0;32m--> 828\u001b[0;31m                 \u001b[0mresults\u001b[0m\u001b[0;34m[\u001b[0m\u001b[0mi\u001b[0m\u001b[0;34m]\u001b[0m \u001b[0;34m=\u001b[0m \u001b[0mself\u001b[0m\u001b[0;34m.\u001b[0m\u001b[0mf\u001b[0m\u001b[0;34m(\u001b[0m\u001b[0mv\u001b[0m\u001b[0;34m)\u001b[0m\u001b[0;34m\u001b[0m\u001b[0;34m\u001b[0m\u001b[0m\n\u001b[0m\u001b[1;32m    829\u001b[0m                 \u001b[0;32mif\u001b[0m \u001b[0misinstance\u001b[0m\u001b[0;34m(\u001b[0m\u001b[0mresults\u001b[0m\u001b[0;34m[\u001b[0m\u001b[0mi\u001b[0m\u001b[0;34m]\u001b[0m\u001b[0;34m,\u001b[0m \u001b[0mABCSeries\u001b[0m\u001b[0;34m)\u001b[0m\u001b[0;34m:\u001b[0m\u001b[0;34m\u001b[0m\u001b[0;34m\u001b[0m\u001b[0m\n\u001b[1;32m    830\u001b[0m                     \u001b[0;31m# If we have a view on v, we need to make a copy because\u001b[0m\u001b[0;34m\u001b[0m\u001b[0;34m\u001b[0m\u001b[0;34m\u001b[0m\u001b[0m\n",
            "\u001b[0;32m/usr/local/lib/python3.8/dist-packages/pandas/core/frame.py\u001b[0m in \u001b[0;36minfer\u001b[0;34m(x)\u001b[0m\n\u001b[1;32m   8821\u001b[0m             \u001b[0;32mif\u001b[0m \u001b[0mx\u001b[0m\u001b[0;34m.\u001b[0m\u001b[0mempty\u001b[0m\u001b[0;34m:\u001b[0m\u001b[0;34m\u001b[0m\u001b[0;34m\u001b[0m\u001b[0m\n\u001b[1;32m   8822\u001b[0m                 \u001b[0;32mreturn\u001b[0m \u001b[0mlib\u001b[0m\u001b[0;34m.\u001b[0m\u001b[0mmap_infer\u001b[0m\u001b[0;34m(\u001b[0m\u001b[0mx\u001b[0m\u001b[0;34m,\u001b[0m \u001b[0mfunc\u001b[0m\u001b[0;34m,\u001b[0m \u001b[0mignore_na\u001b[0m\u001b[0;34m=\u001b[0m\u001b[0mignore_na\u001b[0m\u001b[0;34m)\u001b[0m\u001b[0;34m\u001b[0m\u001b[0;34m\u001b[0m\u001b[0m\n\u001b[0;32m-> 8823\u001b[0;31m             \u001b[0;32mreturn\u001b[0m \u001b[0mlib\u001b[0m\u001b[0;34m.\u001b[0m\u001b[0mmap_infer\u001b[0m\u001b[0;34m(\u001b[0m\u001b[0mx\u001b[0m\u001b[0;34m.\u001b[0m\u001b[0mastype\u001b[0m\u001b[0;34m(\u001b[0m\u001b[0mobject\u001b[0m\u001b[0;34m)\u001b[0m\u001b[0;34m.\u001b[0m\u001b[0m_values\u001b[0m\u001b[0;34m,\u001b[0m \u001b[0mfunc\u001b[0m\u001b[0;34m,\u001b[0m \u001b[0mignore_na\u001b[0m\u001b[0;34m=\u001b[0m\u001b[0mignore_na\u001b[0m\u001b[0;34m)\u001b[0m\u001b[0;34m\u001b[0m\u001b[0;34m\u001b[0m\u001b[0m\n\u001b[0m\u001b[1;32m   8824\u001b[0m \u001b[0;34m\u001b[0m\u001b[0m\n\u001b[1;32m   8825\u001b[0m         \u001b[0;32mreturn\u001b[0m \u001b[0mself\u001b[0m\u001b[0;34m.\u001b[0m\u001b[0mapply\u001b[0m\u001b[0;34m(\u001b[0m\u001b[0minfer\u001b[0m\u001b[0;34m)\u001b[0m\u001b[0;34m.\u001b[0m\u001b[0m__finalize__\u001b[0m\u001b[0;34m(\u001b[0m\u001b[0mself\u001b[0m\u001b[0;34m,\u001b[0m \u001b[0;34m\"applymap\"\u001b[0m\u001b[0;34m)\u001b[0m\u001b[0;34m\u001b[0m\u001b[0;34m\u001b[0m\u001b[0m\n",
            "\u001b[0;32m/usr/local/lib/python3.8/dist-packages/pandas/_libs/lib.pyx\u001b[0m in \u001b[0;36mpandas._libs.lib.map_infer\u001b[0;34m()\u001b[0m\n",
            "\u001b[0;32m<ipython-input-62-dac43a5893d6>\u001b[0m in \u001b[0;36m<lambda>\u001b[0;34m(x)\u001b[0m\n\u001b[1;32m      1\u001b[0m \u001b[0;31m# Getting substructure occurences from the dictionaries they're in\u001b[0m\u001b[0;34m\u001b[0m\u001b[0;34m\u001b[0m\u001b[0;34m\u001b[0m\u001b[0m\n\u001b[1;32m      2\u001b[0m \u001b[0mcols\u001b[0m \u001b[0;34m=\u001b[0m \u001b[0mdf\u001b[0m\u001b[0;34m.\u001b[0m\u001b[0miloc\u001b[0m\u001b[0;34m[\u001b[0m\u001b[0;34m:\u001b[0m\u001b[0;34m,\u001b[0m\u001b[0;36m2\u001b[0m\u001b[0;34m:\u001b[0m\u001b[0;34m]\u001b[0m\u001b[0;34m.\u001b[0m\u001b[0mcolumns\u001b[0m\u001b[0;34m\u001b[0m\u001b[0;34m\u001b[0m\u001b[0m\n\u001b[0;32m----> 3\u001b[0;31m \u001b[0mdf\u001b[0m\u001b[0;34m[\u001b[0m\u001b[0;34m'cc(O)cc(c)s'\u001b[0m\u001b[0;34m]\u001b[0m \u001b[0;34m=\u001b[0m \u001b[0mdf\u001b[0m\u001b[0;34m[\u001b[0m\u001b[0;34m'cc(O)cc(c)s'\u001b[0m\u001b[0;34m]\u001b[0m\u001b[0;34m.\u001b[0m\u001b[0mapplymap\u001b[0m\u001b[0;34m(\u001b[0m\u001b[0;32mlambda\u001b[0m \u001b[0mx\u001b[0m\u001b[0;34m:\u001b[0m \u001b[0mx\u001b[0m\u001b[0;34m[\u001b[0m\u001b[0;34m'count'\u001b[0m\u001b[0;34m]\u001b[0m\u001b[0;34m)\u001b[0m\u001b[0;34m\u001b[0m\u001b[0;34m\u001b[0m\u001b[0m\n\u001b[0m",
            "\u001b[0;31mTypeError\u001b[0m: 'int' object is not subscriptable"
          ]
        }
      ]
    },
    {
      "cell_type": "markdown",
      "source": [
        "#Modeling\n",
        "\n",
        "As I stated in the introduction, I'm interested in trying out boosting methods and random forests as models for this data. I think that these will work well as the bag-of-words style fingerprint featurization has created relatively high dimension data, and so models that suffer from the curse of dimensionality are unlikely to perform very well."
      ],
      "metadata": {
        "id": "gRW6Z9JxlL8P"
      }
    },
    {
      "cell_type": "code",
      "source": [
        "# Re-importing the data to conserve RAM\n",
        "n_features = 1024\n",
        "tasks, datasets, transformers = dc.molnet.load_tox21(featurization='ecfp')\n",
        "tasks = [tasks[0]]\n",
        "\n",
        "# dropping unecessary tasks again\n",
        "to_drop = [\"w\" + str(i) for i in range(1,13)] +  [\"y\" + str(i) for i in range(2,13)]\n",
        "\n",
        "# combining datasets as they were pre-split and I'd like to do cross-validation later\n",
        "train_dataset, valid_dataset, test_dataset = datasets\n",
        "df = pd.concat([train_dataset.to_dataframe(), valid_dataset.to_dataframe(), test_dataset.to_dataframe()]).drop(columns = to_drop)\n"
      ],
      "metadata": {
        "colab": {
          "base_uri": "https://localhost:8080/",
          "height": 0
        },
        "id": "_YlZ9hHeILkB",
        "outputId": "dbaf8cf7-5a64-41fc-ad2b-3947edf6d2be"
      },
      "execution_count": 42,
      "outputs": [
        {
          "output_type": "stream",
          "name": "stdout",
          "text": [
            "Index(['X1', 'X2', 'X3', 'X4', 'X5', 'X6', 'X7', 'X8', 'X9', 'X10',\n",
            "       ...\n",
            "       'X1017', 'X1018', 'X1019', 'X1020', 'X1021', 'X1022', 'X1023', 'X1024',\n",
            "       'y1', 'ids'],\n",
            "      dtype='object', length=1026)\n"
          ]
        }
      ]
    },
    {
      "cell_type": "code",
      "source": [
        "from sklearn.ensemble import RandomForestClassifier, AdaBoostClassifier, GradientBoostingClassifier\n",
        "from sklearn.model_selection import cross_val_score, GridSearchCV, train_test_split\n",
        "from sklearn.metrics import RocCurveDisplay"
      ],
      "metadata": {
        "id": "p_9O5GSKN_21"
      },
      "execution_count": 132,
      "outputs": []
    },
    {
      "cell_type": "markdown",
      "source": [
        "First, the random forest classifier."
      ],
      "metadata": {
        "id": "eAuOyJkCON5O"
      }
    },
    {
      "cell_type": "code",
      "source": [
        "rfc = RandomForestClassifier()\n",
        "\n",
        "n_est_vals = [pow(2, i) for i in range(6, 11)]\n",
        "min_samples_vals = [i for i in range(2, 5)]\n",
        "\n",
        "parameters = {'n_estimators':n_est_vals, 'min_samples_split':min_samples_vals}\n",
        "\n",
        "rfc_grid = GridSearchCV(rfc, parameters, scoring='roc_auc', verbose=10, cv = 3)\n",
        "\n",
        "rfc_grid.fit(df.iloc[:,0:1023], df['y1'])"
      ],
      "metadata": {
        "colab": {
          "base_uri": "https://localhost:8080/",
          "height": 0
        },
        "id": "NrN7vL3HOQhO",
        "outputId": "0377c786-1fda-48af-d554-ab610616109c"
      },
      "execution_count": 69,
      "outputs": [
        {
          "output_type": "stream",
          "name": "stdout",
          "text": [
            "Fitting 3 folds for each of 15 candidates, totalling 45 fits\n",
            "[CV 1/3; 1/15] START min_samples_split=2, n_estimators=64.......................\n",
            "[CV 1/3; 1/15] END min_samples_split=2, n_estimators=64;, score=0.812 total time=   1.2s\n",
            "[CV 2/3; 1/15] START min_samples_split=2, n_estimators=64.......................\n",
            "[CV 2/3; 1/15] END min_samples_split=2, n_estimators=64;, score=0.754 total time=   1.2s\n",
            "[CV 3/3; 1/15] START min_samples_split=2, n_estimators=64.......................\n",
            "[CV 3/3; 1/15] END min_samples_split=2, n_estimators=64;, score=0.742 total time=   1.3s\n",
            "[CV 1/3; 2/15] START min_samples_split=2, n_estimators=128......................\n",
            "[CV 1/3; 2/15] END min_samples_split=2, n_estimators=128;, score=0.802 total time=   2.3s\n",
            "[CV 2/3; 2/15] START min_samples_split=2, n_estimators=128......................\n",
            "[CV 2/3; 2/15] END min_samples_split=2, n_estimators=128;, score=0.763 total time=   2.4s\n",
            "[CV 3/3; 2/15] START min_samples_split=2, n_estimators=128......................\n",
            "[CV 3/3; 2/15] END min_samples_split=2, n_estimators=128;, score=0.726 total time=   2.5s\n",
            "[CV 1/3; 3/15] START min_samples_split=2, n_estimators=256......................\n",
            "[CV 1/3; 3/15] END min_samples_split=2, n_estimators=256;, score=0.803 total time=   4.7s\n",
            "[CV 2/3; 3/15] START min_samples_split=2, n_estimators=256......................\n",
            "[CV 2/3; 3/15] END min_samples_split=2, n_estimators=256;, score=0.738 total time=   4.7s\n",
            "[CV 3/3; 3/15] START min_samples_split=2, n_estimators=256......................\n",
            "[CV 3/3; 3/15] END min_samples_split=2, n_estimators=256;, score=0.734 total time=   5.0s\n",
            "[CV 1/3; 4/15] START min_samples_split=2, n_estimators=512......................\n",
            "[CV 1/3; 4/15] END min_samples_split=2, n_estimators=512;, score=0.806 total time=  10.5s\n",
            "[CV 2/3; 4/15] START min_samples_split=2, n_estimators=512......................\n",
            "[CV 2/3; 4/15] END min_samples_split=2, n_estimators=512;, score=0.778 total time=  10.5s\n",
            "[CV 3/3; 4/15] START min_samples_split=2, n_estimators=512......................\n",
            "[CV 3/3; 4/15] END min_samples_split=2, n_estimators=512;, score=0.731 total time=  10.1s\n",
            "[CV 1/3; 5/15] START min_samples_split=2, n_estimators=1024.....................\n",
            "[CV 1/3; 5/15] END min_samples_split=2, n_estimators=1024;, score=0.834 total time=  19.3s\n",
            "[CV 2/3; 5/15] START min_samples_split=2, n_estimators=1024.....................\n",
            "[CV 2/3; 5/15] END min_samples_split=2, n_estimators=1024;, score=0.763 total time=  18.7s\n",
            "[CV 3/3; 5/15] START min_samples_split=2, n_estimators=1024.....................\n",
            "[CV 3/3; 5/15] END min_samples_split=2, n_estimators=1024;, score=0.732 total time=  20.4s\n",
            "[CV 1/3; 6/15] START min_samples_split=3, n_estimators=64.......................\n",
            "[CV 1/3; 6/15] END min_samples_split=3, n_estimators=64;, score=0.788 total time=   1.2s\n",
            "[CV 2/3; 6/15] START min_samples_split=3, n_estimators=64.......................\n",
            "[CV 2/3; 6/15] END min_samples_split=3, n_estimators=64;, score=0.726 total time=   1.1s\n",
            "[CV 3/3; 6/15] START min_samples_split=3, n_estimators=64.......................\n",
            "[CV 3/3; 6/15] END min_samples_split=3, n_estimators=64;, score=0.741 total time=   1.3s\n",
            "[CV 1/3; 7/15] START min_samples_split=3, n_estimators=128......................\n",
            "[CV 1/3; 7/15] END min_samples_split=3, n_estimators=128;, score=0.812 total time=   2.3s\n",
            "[CV 2/3; 7/15] START min_samples_split=3, n_estimators=128......................\n",
            "[CV 2/3; 7/15] END min_samples_split=3, n_estimators=128;, score=0.751 total time=   2.3s\n",
            "[CV 3/3; 7/15] START min_samples_split=3, n_estimators=128......................\n",
            "[CV 3/3; 7/15] END min_samples_split=3, n_estimators=128;, score=0.721 total time=   2.4s\n",
            "[CV 1/3; 8/15] START min_samples_split=3, n_estimators=256......................\n",
            "[CV 1/3; 8/15] END min_samples_split=3, n_estimators=256;, score=0.796 total time=   4.4s\n",
            "[CV 2/3; 8/15] START min_samples_split=3, n_estimators=256......................\n",
            "[CV 2/3; 8/15] END min_samples_split=3, n_estimators=256;, score=0.749 total time=   4.5s\n",
            "[CV 3/3; 8/15] START min_samples_split=3, n_estimators=256......................\n",
            "[CV 3/3; 8/15] END min_samples_split=3, n_estimators=256;, score=0.734 total time=   4.9s\n",
            "[CV 1/3; 9/15] START min_samples_split=3, n_estimators=512......................\n",
            "[CV 1/3; 9/15] END min_samples_split=3, n_estimators=512;, score=0.827 total time=   8.8s\n",
            "[CV 2/3; 9/15] START min_samples_split=3, n_estimators=512......................\n",
            "[CV 2/3; 9/15] END min_samples_split=3, n_estimators=512;, score=0.761 total time=   9.0s\n",
            "[CV 3/3; 9/15] START min_samples_split=3, n_estimators=512......................\n",
            "[CV 3/3; 9/15] END min_samples_split=3, n_estimators=512;, score=0.731 total time=   9.5s\n",
            "[CV 1/3; 10/15] START min_samples_split=3, n_estimators=1024....................\n",
            "[CV 1/3; 10/15] END min_samples_split=3, n_estimators=1024;, score=0.815 total time=  19.0s\n",
            "[CV 2/3; 10/15] START min_samples_split=3, n_estimators=1024....................\n",
            "[CV 2/3; 10/15] END min_samples_split=3, n_estimators=1024;, score=0.766 total time=  18.2s\n",
            "[CV 3/3; 10/15] START min_samples_split=3, n_estimators=1024....................\n",
            "[CV 3/3; 10/15] END min_samples_split=3, n_estimators=1024;, score=0.738 total time=  19.2s\n",
            "[CV 1/3; 11/15] START min_samples_split=4, n_estimators=64......................\n",
            "[CV 1/3; 11/15] END min_samples_split=4, n_estimators=64;, score=0.791 total time=   1.1s\n",
            "[CV 2/3; 11/15] START min_samples_split=4, n_estimators=64......................\n",
            "[CV 2/3; 11/15] END min_samples_split=4, n_estimators=64;, score=0.774 total time=   1.2s\n",
            "[CV 3/3; 11/15] START min_samples_split=4, n_estimators=64......................\n",
            "[CV 3/3; 11/15] END min_samples_split=4, n_estimators=64;, score=0.739 total time=   1.2s\n",
            "[CV 1/3; 12/15] START min_samples_split=4, n_estimators=128.....................\n",
            "[CV 1/3; 12/15] END min_samples_split=4, n_estimators=128;, score=0.831 total time=   2.2s\n",
            "[CV 2/3; 12/15] START min_samples_split=4, n_estimators=128.....................\n",
            "[CV 2/3; 12/15] END min_samples_split=4, n_estimators=128;, score=0.759 total time=   2.3s\n",
            "[CV 3/3; 12/15] START min_samples_split=4, n_estimators=128.....................\n",
            "[CV 3/3; 12/15] END min_samples_split=4, n_estimators=128;, score=0.720 total time=   2.5s\n",
            "[CV 1/3; 13/15] START min_samples_split=4, n_estimators=256.....................\n",
            "[CV 1/3; 13/15] END min_samples_split=4, n_estimators=256;, score=0.811 total time=   4.5s\n",
            "[CV 2/3; 13/15] START min_samples_split=4, n_estimators=256.....................\n",
            "[CV 2/3; 13/15] END min_samples_split=4, n_estimators=256;, score=0.756 total time=   4.5s\n",
            "[CV 3/3; 13/15] START min_samples_split=4, n_estimators=256.....................\n",
            "[CV 3/3; 13/15] END min_samples_split=4, n_estimators=256;, score=0.737 total time=   4.7s\n",
            "[CV 1/3; 14/15] START min_samples_split=4, n_estimators=512.....................\n",
            "[CV 1/3; 14/15] END min_samples_split=4, n_estimators=512;, score=0.816 total time=   8.8s\n",
            "[CV 2/3; 14/15] START min_samples_split=4, n_estimators=512.....................\n",
            "[CV 2/3; 14/15] END min_samples_split=4, n_estimators=512;, score=0.764 total time=   9.2s\n",
            "[CV 3/3; 14/15] START min_samples_split=4, n_estimators=512.....................\n",
            "[CV 3/3; 14/15] END min_samples_split=4, n_estimators=512;, score=0.736 total time=   9.6s\n",
            "[CV 1/3; 15/15] START min_samples_split=4, n_estimators=1024....................\n",
            "[CV 1/3; 15/15] END min_samples_split=4, n_estimators=1024;, score=0.832 total time=  19.6s\n",
            "[CV 2/3; 15/15] START min_samples_split=4, n_estimators=1024....................\n",
            "[CV 2/3; 15/15] END min_samples_split=4, n_estimators=1024;, score=0.774 total time=  18.0s\n",
            "[CV 3/3; 15/15] START min_samples_split=4, n_estimators=1024....................\n",
            "[CV 3/3; 15/15] END min_samples_split=4, n_estimators=1024;, score=0.734 total time=  19.3s\n"
          ]
        },
        {
          "output_type": "execute_result",
          "data": {
            "text/plain": [
              "GridSearchCV(cv=3, estimator=RandomForestClassifier(),\n",
              "             param_grid={'min_samples_split': [2, 3, 4],\n",
              "                         'n_estimators': [64, 128, 256, 512, 1024]},\n",
              "             scoring='roc_auc', verbose=10)"
            ]
          },
          "metadata": {},
          "execution_count": 69
        }
      ]
    },
    {
      "cell_type": "code",
      "source": [
        "from matplotlib.colors import Normalize\n",
        "\n",
        "class MidpointNormalize(Normalize):\n",
        "\n",
        "    def __init__(self, vmin=None, vmax=None, midpoint=None, clip=False):\n",
        "        self.midpoint = midpoint\n",
        "        Normalize.__init__(self, vmin, vmax, clip)\n",
        "\n",
        "    def __call__(self, value, clip=None):\n",
        "        x, y = [self.vmin, self.midpoint, self.vmax], [0, 0.5, 1]\n",
        "        return np.ma.masked_array(np.interp(value, x, y))\n",
        "    \n",
        "\n",
        "def plotSearchGrid(grid,vmin=0.7, vmax = 1, midpoint=0.9, y = \"n_estimators\", x = \"min_samples_split\"):\n",
        "    \"\"\"\n",
        "    parameters:\n",
        "      GridSearchCV object\n",
        "\n",
        "    returns:\n",
        "      plot of search\n",
        "    \"\"\"\n",
        "    \n",
        "    scores = [x for x in grid.cv_results_[\"mean_test_score\"]]\n",
        "    scores = np.array(scores).reshape(len(grid.param_grid[x]), len(grid.param_grid[y]))\n",
        "\n",
        "    plt.figure(figsize=(10, 8))\n",
        "    plt.subplots_adjust(left=.2, right=0.95, bottom=0.15, top=0.95)\n",
        "    plt.imshow(scores, interpolation='nearest', cmap=plt.cm.hot,\n",
        "               norm=MidpointNormalize(vmin=vmin, vmax = vmax, midpoint=midpoint))\n",
        "    plt.xlabel(x)\n",
        "    plt.ylabel(y)\n",
        "    plt.colorbar()\n",
        "    plt.xticks(np.arange(len(grid.param_grid[x])), grid.param_grid[x], rotation=45)\n",
        "    plt.yticks(np.arange(len(grid.param_grid[y])), grid.param_grid[y])\n",
        "    plt.title('ROC AUC')\n",
        "    plt.show()"
      ],
      "metadata": {
        "id": "UdZJLUNQRMYS"
      },
      "execution_count": 122,
      "outputs": []
    },
    {
      "cell_type": "code",
      "source": [
        "plotSearchGrid(rfc_grid, vmin=0.7, vmax = .8, midpoint=0.775)"
      ],
      "metadata": {
        "colab": {
          "base_uri": "https://localhost:8080/",
          "height": 541
        },
        "id": "MWp1pGjaRC3P",
        "outputId": "c997d261-c5a0-43ba-8d17-da1ba2621d35"
      },
      "execution_count": 120,
      "outputs": [
        {
          "output_type": "display_data",
          "data": {
            "text/plain": [
              "<Figure size 720x576 with 2 Axes>"
            ],
            "image/png": "[encoded data removed]"
          },
          "metadata": {
            "needs_background": "light"
          }
        }
      ]
    },
    {
      "cell_type": "code",
      "source": [
        "print(rfc_grid.best_params_)\n",
        "\n",
        "print(rfc_grid.best_score_)\n"
      ],
      "metadata": {
        "colab": {
          "base_uri": "https://localhost:8080/",
          "height": 0
        },
        "id": "QE0VogUPYc5X",
        "outputId": "2fc61475-9f67-4ab2-defe-430c8589f937"
      },
      "execution_count": 117,
      "outputs": [
        {
          "output_type": "stream",
          "name": "stdout",
          "text": [
            "{'min_samples_split': 4, 'n_estimators': 1024}\n",
            "0.7803499939257427\n"
          ]
        }
      ]
    },
    {
      "cell_type": "markdown",
      "source": [
        "Reminder that the scoring method is the area under the ROC curve. 78% is not bad! I believe that even better scores could be obtained by further exploring parameter combinations as the best parameters were also the highest that the search tested."
      ],
      "metadata": {
        "id": "2GGXmKVzYkae"
      }
    },
    {
      "cell_type": "markdown",
      "source": [
        "Gradient boosting:"
      ],
      "metadata": {
        "id": "0w9YwUtwSI1O"
      }
    },
    {
      "cell_type": "code",
      "source": [
        "gbc = GradientBoostingClassifier()\n",
        "\n",
        "n_est_vals = [pow(2, i) for i in range(6, 11)]\n",
        "min_samples_vals = [i for i in range(2, 5)]\n",
        "\n",
        "parameters = {'n_estimators':n_est_vals, 'min_samples_split':min_samples_vals}\n",
        "\n",
        "gbc_grid = GridSearchCV(gbc, parameters, scoring='roc_auc', verbose=10, cv = 3)\n",
        "\n",
        "gbc_grid.fit(df.iloc[:,0:1023], df['y1'])"
      ],
      "metadata": {
        "colab": {
          "base_uri": "https://localhost:8080/",
          "height": 0
        },
        "id": "MaSIvw4XSReZ",
        "outputId": "7a76a03b-9ed7-4cab-b206-516099b3a360"
      },
      "execution_count": 106,
      "outputs": [
        {
          "output_type": "stream",
          "name": "stdout",
          "text": [
            "Fitting 3 folds for each of 15 candidates, totalling 45 fits\n",
            "[CV 1/3; 1/15] START min_samples_split=2, n_estimators=64.......................\n",
            "[CV 1/3; 1/15] END min_samples_split=2, n_estimators=64;, score=0.789 total time=   4.3s\n",
            "[CV 2/3; 1/15] START min_samples_split=2, n_estimators=64.......................\n",
            "[CV 2/3; 1/15] END min_samples_split=2, n_estimators=64;, score=0.737 total time=   4.1s\n",
            "[CV 3/3; 1/15] START min_samples_split=2, n_estimators=64.......................\n",
            "[CV 3/3; 1/15] END min_samples_split=2, n_estimators=64;, score=0.720 total time=   4.0s\n",
            "[CV 1/3; 2/15] START min_samples_split=2, n_estimators=128......................\n",
            "[CV 1/3; 2/15] END min_samples_split=2, n_estimators=128;, score=0.786 total time=   8.4s\n",
            "[CV 2/3; 2/15] START min_samples_split=2, n_estimators=128......................\n",
            "[CV 2/3; 2/15] END min_samples_split=2, n_estimators=128;, score=0.713 total time=   8.2s\n",
            "[CV 3/3; 2/15] START min_samples_split=2, n_estimators=128......................\n",
            "[CV 3/3; 2/15] END min_samples_split=2, n_estimators=128;, score=0.718 total time=   7.8s\n",
            "[CV 1/3; 3/15] START min_samples_split=2, n_estimators=256......................\n",
            "[CV 1/3; 3/15] END min_samples_split=2, n_estimators=256;, score=0.790 total time=  16.5s\n",
            "[CV 2/3; 3/15] START min_samples_split=2, n_estimators=256......................\n",
            "[CV 2/3; 3/15] END min_samples_split=2, n_estimators=256;, score=0.717 total time=  16.2s\n",
            "[CV 3/3; 3/15] START min_samples_split=2, n_estimators=256......................\n",
            "[CV 3/3; 3/15] END min_samples_split=2, n_estimators=256;, score=0.714 total time=  15.5s\n",
            "[CV 1/3; 4/15] START min_samples_split=2, n_estimators=512......................\n",
            "[CV 1/3; 4/15] END min_samples_split=2, n_estimators=512;, score=0.786 total time=  32.9s\n",
            "[CV 2/3; 4/15] START min_samples_split=2, n_estimators=512......................\n",
            "[CV 2/3; 4/15] END min_samples_split=2, n_estimators=512;, score=0.703 total time=  32.2s\n",
            "[CV 3/3; 4/15] START min_samples_split=2, n_estimators=512......................\n",
            "[CV 3/3; 4/15] END min_samples_split=2, n_estimators=512;, score=0.721 total time=  31.6s\n",
            "[CV 1/3; 5/15] START min_samples_split=2, n_estimators=1024.....................\n",
            "[CV 1/3; 5/15] END min_samples_split=2, n_estimators=1024;, score=0.772 total time= 1.1min\n",
            "[CV 2/3; 5/15] START min_samples_split=2, n_estimators=1024.....................\n",
            "[CV 2/3; 5/15] END min_samples_split=2, n_estimators=1024;, score=0.707 total time= 1.1min\n",
            "[CV 3/3; 5/15] START min_samples_split=2, n_estimators=1024.....................\n",
            "[CV 3/3; 5/15] END min_samples_split=2, n_estimators=1024;, score=0.685 total time= 1.0min\n",
            "[CV 1/3; 6/15] START min_samples_split=3, n_estimators=64.......................\n",
            "[CV 1/3; 6/15] END min_samples_split=3, n_estimators=64;, score=0.796 total time=   4.2s\n",
            "[CV 2/3; 6/15] START min_samples_split=3, n_estimators=64.......................\n",
            "[CV 2/3; 6/15] END min_samples_split=3, n_estimators=64;, score=0.721 total time=   4.1s\n",
            "[CV 3/3; 6/15] START min_samples_split=3, n_estimators=64.......................\n",
            "[CV 3/3; 6/15] END min_samples_split=3, n_estimators=64;, score=0.704 total time=   3.9s\n",
            "[CV 1/3; 7/15] START min_samples_split=3, n_estimators=128......................\n",
            "[CV 1/3; 7/15] END min_samples_split=3, n_estimators=128;, score=0.787 total time=   8.3s\n",
            "[CV 2/3; 7/15] START min_samples_split=3, n_estimators=128......................\n",
            "[CV 2/3; 7/15] END min_samples_split=3, n_estimators=128;, score=0.715 total time=   8.1s\n",
            "[CV 3/3; 7/15] START min_samples_split=3, n_estimators=128......................\n",
            "[CV 3/3; 7/15] END min_samples_split=3, n_estimators=128;, score=0.719 total time=   7.8s\n",
            "[CV 1/3; 8/15] START min_samples_split=3, n_estimators=256......................\n",
            "[CV 1/3; 8/15] END min_samples_split=3, n_estimators=256;, score=0.785 total time=  16.5s\n",
            "[CV 2/3; 8/15] START min_samples_split=3, n_estimators=256......................\n",
            "[CV 2/3; 8/15] END min_samples_split=3, n_estimators=256;, score=0.720 total time=  16.9s\n",
            "[CV 3/3; 8/15] START min_samples_split=3, n_estimators=256......................\n",
            "[CV 3/3; 8/15] END min_samples_split=3, n_estimators=256;, score=0.717 total time=  15.5s\n",
            "[CV 1/3; 9/15] START min_samples_split=3, n_estimators=512......................\n",
            "[CV 1/3; 9/15] END min_samples_split=3, n_estimators=512;, score=0.771 total time=  33.2s\n",
            "[CV 2/3; 9/15] START min_samples_split=3, n_estimators=512......................\n",
            "[CV 2/3; 9/15] END min_samples_split=3, n_estimators=512;, score=0.714 total time=  32.2s\n",
            "[CV 3/3; 9/15] START min_samples_split=3, n_estimators=512......................\n",
            "[CV 3/3; 9/15] END min_samples_split=3, n_estimators=512;, score=0.720 total time=  30.9s\n",
            "[CV 1/3; 10/15] START min_samples_split=3, n_estimators=1024....................\n",
            "[CV 1/3; 10/15] END min_samples_split=3, n_estimators=1024;, score=0.769 total time= 1.1min\n",
            "[CV 2/3; 10/15] START min_samples_split=3, n_estimators=1024....................\n",
            "[CV 2/3; 10/15] END min_samples_split=3, n_estimators=1024;, score=0.711 total time= 1.1min\n",
            "[CV 3/3; 10/15] START min_samples_split=3, n_estimators=1024....................\n",
            "[CV 3/3; 10/15] END min_samples_split=3, n_estimators=1024;, score=0.702 total time= 1.0min\n",
            "[CV 1/3; 11/15] START min_samples_split=4, n_estimators=64......................\n",
            "[CV 1/3; 11/15] END min_samples_split=4, n_estimators=64;, score=0.791 total time=   4.2s\n",
            "[CV 2/3; 11/15] START min_samples_split=4, n_estimators=64......................\n",
            "[CV 2/3; 11/15] END min_samples_split=4, n_estimators=64;, score=0.735 total time=   4.1s\n",
            "[CV 3/3; 11/15] START min_samples_split=4, n_estimators=64......................\n",
            "[CV 3/3; 11/15] END min_samples_split=4, n_estimators=64;, score=0.718 total time=   3.9s\n",
            "[CV 1/3; 12/15] START min_samples_split=4, n_estimators=128.....................\n",
            "[CV 1/3; 12/15] END min_samples_split=4, n_estimators=128;, score=0.778 total time=   8.2s\n",
            "[CV 2/3; 12/15] START min_samples_split=4, n_estimators=128.....................\n",
            "[CV 2/3; 12/15] END min_samples_split=4, n_estimators=128;, score=0.714 total time=   8.1s\n",
            "[CV 3/3; 12/15] START min_samples_split=4, n_estimators=128.....................\n",
            "[CV 3/3; 12/15] END min_samples_split=4, n_estimators=128;, score=0.734 total time=   7.8s\n",
            "[CV 1/3; 13/15] START min_samples_split=4, n_estimators=256.....................\n",
            "[CV 1/3; 13/15] END min_samples_split=4, n_estimators=256;, score=0.801 total time=  16.5s\n",
            "[CV 2/3; 13/15] START min_samples_split=4, n_estimators=256.....................\n",
            "[CV 2/3; 13/15] END min_samples_split=4, n_estimators=256;, score=0.719 total time=  16.0s\n",
            "[CV 3/3; 13/15] START min_samples_split=4, n_estimators=256.....................\n",
            "[CV 3/3; 13/15] END min_samples_split=4, n_estimators=256;, score=0.712 total time=  15.5s\n",
            "[CV 1/3; 14/15] START min_samples_split=4, n_estimators=512.....................\n",
            "[CV 1/3; 14/15] END min_samples_split=4, n_estimators=512;, score=0.775 total time=  32.7s\n",
            "[CV 2/3; 14/15] START min_samples_split=4, n_estimators=512.....................\n",
            "[CV 2/3; 14/15] END min_samples_split=4, n_estimators=512;, score=0.705 total time=  32.1s\n",
            "[CV 3/3; 14/15] START min_samples_split=4, n_estimators=512.....................\n",
            "[CV 3/3; 14/15] END min_samples_split=4, n_estimators=512;, score=0.719 total time=  30.8s\n",
            "[CV 1/3; 15/15] START min_samples_split=4, n_estimators=1024....................\n",
            "[CV 1/3; 15/15] END min_samples_split=4, n_estimators=1024;, score=0.763 total time= 1.1min\n",
            "[CV 2/3; 15/15] START min_samples_split=4, n_estimators=1024....................\n",
            "[CV 2/3; 15/15] END min_samples_split=4, n_estimators=1024;, score=0.715 total time= 1.1min\n",
            "[CV 3/3; 15/15] START min_samples_split=4, n_estimators=1024....................\n",
            "[CV 3/3; 15/15] END min_samples_split=4, n_estimators=1024;, score=0.695 total time= 1.0min\n"
          ]
        },
        {
          "output_type": "execute_result",
          "data": {
            "text/plain": [
              "GridSearchCV(cv=3, estimator=GradientBoostingClassifier(),\n",
              "             param_grid={'min_samples_split': [2, 3, 4],\n",
              "                         'n_estimators': [64, 128, 256, 512, 1024]},\n",
              "             scoring='roc_auc', verbose=10)"
            ]
          },
          "metadata": {},
          "execution_count": 106
        }
      ]
    },
    {
      "cell_type": "code",
      "source": [
        "plotSearchGrid(gbc_grid,vmin=0.7, vmax = .75, midpoint=0.725)"
      ],
      "metadata": {
        "colab": {
          "base_uri": "https://localhost:8080/",
          "height": 541
        },
        "id": "o-q0MT0hfw0j",
        "outputId": "103db578-f9fd-4295-9c3c-292213ed6bd1"
      },
      "execution_count": 111,
      "outputs": [
        {
          "output_type": "display_data",
          "data": {
            "text/plain": [
              "<Figure size 720x576 with 2 Axes>"
            ],
            "image/png": "[encoded data removed]"
          },
          "metadata": {
            "needs_background": "light"
          }
        }
      ]
    },
    {
      "cell_type": "code",
      "source": [
        "print(gbc_grid.best_params_)\n",
        "\n",
        "print(gbc_grid.best_score_)\n"
      ],
      "metadata": {
        "colab": {
          "base_uri": "https://localhost:8080/",
          "height": 0
        },
        "id": "IBwbXloUfzXR",
        "outputId": "7902815a-5ac0-49a7-a840-bffce67fc40d"
      },
      "execution_count": 112,
      "outputs": [
        {
          "output_type": "stream",
          "name": "stdout",
          "text": [
            "{'min_samples_split': 2, 'n_estimators': 64}\n",
            "0.7488098397804924\n"
          ]
        }
      ]
    },
    {
      "cell_type": "markdown",
      "source": [
        "AdaBoost:"
      ],
      "metadata": {
        "id": "BFWSrhCHSQZg"
      }
    },
    {
      "cell_type": "code",
      "source": [
        "abc = AdaBoostClassifier()\n",
        "\n",
        "n_est_vals = [pow(2, i) for i in range(6, 11)]\n",
        "learning_rate_vals = [pow(2, i) for i in range(-3, 3)]\n",
        "\n",
        "parameters = {'n_estimators':n_est_vals, 'learning_rate':learning_rate_vals}\n",
        "\n",
        "abc_grid = GridSearchCV(abc, parameters, scoring='roc_auc', verbose=10, cv = 3)\n",
        "\n",
        "abc_grid.fit(df.iloc[:,0:1023], df['y1'])"
      ],
      "metadata": {
        "colab": {
          "base_uri": "https://localhost:8080/",
          "height": 0
        },
        "id": "3AHVYzhzSNGl",
        "outputId": "834e4900-5829-4cfb-94a5-0d6fa435d6ef"
      },
      "execution_count": 107,
      "outputs": [
        {
          "output_type": "stream",
          "name": "stdout",
          "text": [
            "Fitting 3 folds for each of 30 candidates, totalling 90 fits\n",
            "[CV 1/3; 1/30] START learning_rate=0.125, n_estimators=64.......................\n",
            "[CV 1/3; 1/30] END learning_rate=0.125, n_estimators=64;, score=0.768 total time=   3.2s\n",
            "[CV 2/3; 1/30] START learning_rate=0.125, n_estimators=64.......................\n",
            "[CV 2/3; 1/30] END learning_rate=0.125, n_estimators=64;, score=0.691 total time=   3.1s\n",
            "[CV 3/3; 1/30] START learning_rate=0.125, n_estimators=64.......................\n",
            "[CV 3/3; 1/30] END learning_rate=0.125, n_estimators=64;, score=0.650 total time=   3.1s\n",
            "[CV 1/3; 2/30] START learning_rate=0.125, n_estimators=128......................\n",
            "[CV 1/3; 2/30] END learning_rate=0.125, n_estimators=128;, score=0.772 total time=   6.2s\n",
            "[CV 2/3; 2/30] START learning_rate=0.125, n_estimators=128......................\n",
            "[CV 2/3; 2/30] END learning_rate=0.125, n_estimators=128;, score=0.650 total time=   6.2s\n",
            "[CV 3/3; 2/30] START learning_rate=0.125, n_estimators=128......................\n",
            "[CV 3/3; 2/30] END learning_rate=0.125, n_estimators=128;, score=0.637 total time=   6.2s\n",
            "[CV 1/3; 3/30] START learning_rate=0.125, n_estimators=256......................\n",
            "[CV 1/3; 3/30] END learning_rate=0.125, n_estimators=256;, score=0.699 total time=  12.5s\n",
            "[CV 2/3; 3/30] START learning_rate=0.125, n_estimators=256......................\n",
            "[CV 2/3; 3/30] END learning_rate=0.125, n_estimators=256;, score=0.658 total time=  12.4s\n",
            "[CV 3/3; 3/30] START learning_rate=0.125, n_estimators=256......................\n",
            "[CV 3/3; 3/30] END learning_rate=0.125, n_estimators=256;, score=0.603 total time=  12.2s\n",
            "[CV 1/3; 4/30] START learning_rate=0.125, n_estimators=512......................\n",
            "[CV 1/3; 4/30] END learning_rate=0.125, n_estimators=512;, score=0.738 total time=  25.6s\n",
            "[CV 2/3; 4/30] START learning_rate=0.125, n_estimators=512......................\n",
            "[CV 2/3; 4/30] END learning_rate=0.125, n_estimators=512;, score=0.670 total time=  24.7s\n",
            "[CV 3/3; 4/30] START learning_rate=0.125, n_estimators=512......................\n",
            "[CV 3/3; 4/30] END learning_rate=0.125, n_estimators=512;, score=0.601 total time=  24.5s\n",
            "[CV 1/3; 5/30] START learning_rate=0.125, n_estimators=1024.....................\n",
            "[CV 1/3; 5/30] END learning_rate=0.125, n_estimators=1024;, score=0.748 total time=  49.9s\n",
            "[CV 2/3; 5/30] START learning_rate=0.125, n_estimators=1024.....................\n",
            "[CV 2/3; 5/30] END learning_rate=0.125, n_estimators=1024;, score=0.674 total time=  49.3s\n",
            "[CV 3/3; 5/30] START learning_rate=0.125, n_estimators=1024.....................\n",
            "[CV 3/3; 5/30] END learning_rate=0.125, n_estimators=1024;, score=0.584 total time=  48.9s\n",
            "[CV 1/3; 6/30] START learning_rate=0.25, n_estimators=64........................\n",
            "[CV 1/3; 6/30] END learning_rate=0.25, n_estimators=64;, score=0.772 total time=   3.2s\n",
            "[CV 2/3; 6/30] START learning_rate=0.25, n_estimators=64........................\n",
            "[CV 2/3; 6/30] END learning_rate=0.25, n_estimators=64;, score=0.647 total time=   3.1s\n",
            "[CV 3/3; 6/30] START learning_rate=0.25, n_estimators=64........................\n",
            "[CV 3/3; 6/30] END learning_rate=0.25, n_estimators=64;, score=0.627 total time=   3.1s\n",
            "[CV 1/3; 7/30] START learning_rate=0.25, n_estimators=128.......................\n",
            "[CV 1/3; 7/30] END learning_rate=0.25, n_estimators=128;, score=0.705 total time=   6.3s\n",
            "[CV 2/3; 7/30] START learning_rate=0.25, n_estimators=128.......................\n",
            "[CV 2/3; 7/30] END learning_rate=0.25, n_estimators=128;, score=0.653 total time=   6.2s\n",
            "[CV 3/3; 7/30] START learning_rate=0.25, n_estimators=128.......................\n",
            "[CV 3/3; 7/30] END learning_rate=0.25, n_estimators=128;, score=0.586 total time=   6.2s\n",
            "[CV 1/3; 8/30] START learning_rate=0.25, n_estimators=256.......................\n",
            "[CV 1/3; 8/30] END learning_rate=0.25, n_estimators=256;, score=0.677 total time=  12.5s\n",
            "[CV 2/3; 8/30] START learning_rate=0.25, n_estimators=256.......................\n",
            "[CV 2/3; 8/30] END learning_rate=0.25, n_estimators=256;, score=0.649 total time=  12.9s\n",
            "[CV 3/3; 8/30] START learning_rate=0.25, n_estimators=256.......................\n",
            "[CV 3/3; 8/30] END learning_rate=0.25, n_estimators=256;, score=0.568 total time=  12.2s\n",
            "[CV 1/3; 9/30] START learning_rate=0.25, n_estimators=512.......................\n",
            "[CV 1/3; 9/30] END learning_rate=0.25, n_estimators=512;, score=0.672 total time=  24.9s\n",
            "[CV 2/3; 9/30] START learning_rate=0.25, n_estimators=512.......................\n",
            "[CV 2/3; 9/30] END learning_rate=0.25, n_estimators=512;, score=0.646 total time=  24.7s\n",
            "[CV 3/3; 9/30] START learning_rate=0.25, n_estimators=512.......................\n",
            "[CV 3/3; 9/30] END learning_rate=0.25, n_estimators=512;, score=0.557 total time=  24.6s\n",
            "[CV 1/3; 10/30] START learning_rate=0.25, n_estimators=1024.....................\n",
            "[CV 1/3; 10/30] END learning_rate=0.25, n_estimators=1024;, score=0.684 total time=  49.8s\n",
            "[CV 2/3; 10/30] START learning_rate=0.25, n_estimators=1024.....................\n",
            "[CV 2/3; 10/30] END learning_rate=0.25, n_estimators=1024;, score=0.659 total time=  49.5s\n",
            "[CV 3/3; 10/30] START learning_rate=0.25, n_estimators=1024.....................\n",
            "[CV 3/3; 10/30] END learning_rate=0.25, n_estimators=1024;, score=0.553 total time=  49.5s\n",
            "[CV 1/3; 11/30] START learning_rate=0.5, n_estimators=64........................\n",
            "[CV 1/3; 11/30] END learning_rate=0.5, n_estimators=64;, score=0.730 total time=   3.2s\n",
            "[CV 2/3; 11/30] START learning_rate=0.5, n_estimators=64........................\n",
            "[CV 2/3; 11/30] END learning_rate=0.5, n_estimators=64;, score=0.623 total time=   3.2s\n",
            "[CV 3/3; 11/30] START learning_rate=0.5, n_estimators=64........................\n",
            "[CV 3/3; 11/30] END learning_rate=0.5, n_estimators=64;, score=0.583 total time=   3.1s\n",
            "[CV 1/3; 12/30] START learning_rate=0.5, n_estimators=128.......................\n",
            "[CV 1/3; 12/30] END learning_rate=0.5, n_estimators=128;, score=0.703 total time=   7.0s\n",
            "[CV 2/3; 12/30] START learning_rate=0.5, n_estimators=128.......................\n",
            "[CV 2/3; 12/30] END learning_rate=0.5, n_estimators=128;, score=0.640 total time=   6.3s\n",
            "[CV 3/3; 12/30] START learning_rate=0.5, n_estimators=128.......................\n",
            "[CV 3/3; 12/30] END learning_rate=0.5, n_estimators=128;, score=0.569 total time=   6.2s\n",
            "[CV 1/3; 13/30] START learning_rate=0.5, n_estimators=256.......................\n",
            "[CV 1/3; 13/30] END learning_rate=0.5, n_estimators=256;, score=0.658 total time=  12.6s\n",
            "[CV 2/3; 13/30] START learning_rate=0.5, n_estimators=256.......................\n",
            "[CV 2/3; 13/30] END learning_rate=0.5, n_estimators=256;, score=0.653 total time=  12.5s\n",
            "[CV 3/3; 13/30] START learning_rate=0.5, n_estimators=256.......................\n",
            "[CV 3/3; 13/30] END learning_rate=0.5, n_estimators=256;, score=0.548 total time=  12.4s\n",
            "[CV 1/3; 14/30] START learning_rate=0.5, n_estimators=512.......................\n",
            "[CV 1/3; 14/30] END learning_rate=0.5, n_estimators=512;, score=0.672 total time=  25.1s\n",
            "[CV 2/3; 14/30] START learning_rate=0.5, n_estimators=512.......................\n",
            "[CV 2/3; 14/30] END learning_rate=0.5, n_estimators=512;, score=0.650 total time=  24.7s\n",
            "[CV 3/3; 14/30] START learning_rate=0.5, n_estimators=512.......................\n",
            "[CV 3/3; 14/30] END learning_rate=0.5, n_estimators=512;, score=0.535 total time=  24.6s\n",
            "[CV 1/3; 15/30] START learning_rate=0.5, n_estimators=1024......................\n",
            "[CV 1/3; 15/30] END learning_rate=0.5, n_estimators=1024;, score=0.676 total time=  50.0s\n",
            "[CV 2/3; 15/30] START learning_rate=0.5, n_estimators=1024......................\n",
            "[CV 2/3; 15/30] END learning_rate=0.5, n_estimators=1024;, score=0.649 total time=  49.5s\n",
            "[CV 3/3; 15/30] START learning_rate=0.5, n_estimators=1024......................\n",
            "[CV 3/3; 15/30] END learning_rate=0.5, n_estimators=1024;, score=0.547 total time=  50.0s\n",
            "[CV 1/3; 16/30] START learning_rate=1, n_estimators=64..........................\n",
            "[CV 1/3; 16/30] END learning_rate=1, n_estimators=64;, score=0.764 total time=   3.2s\n",
            "[CV 2/3; 16/30] START learning_rate=1, n_estimators=64..........................\n",
            "[CV 2/3; 16/30] END learning_rate=1, n_estimators=64;, score=0.634 total time=   3.2s\n",
            "[CV 3/3; 16/30] START learning_rate=1, n_estimators=64..........................\n",
            "[CV 3/3; 16/30] END learning_rate=1, n_estimators=64;, score=0.627 total time=   3.2s\n",
            "[CV 1/3; 17/30] START learning_rate=1, n_estimators=128.........................\n",
            "[CV 1/3; 17/30] END learning_rate=1, n_estimators=128;, score=0.682 total time=   6.3s\n",
            "[CV 2/3; 17/30] START learning_rate=1, n_estimators=128.........................\n",
            "[CV 2/3; 17/30] END learning_rate=1, n_estimators=128;, score=0.623 total time=   6.2s\n",
            "[CV 3/3; 17/30] START learning_rate=1, n_estimators=128.........................\n",
            "[CV 3/3; 17/30] END learning_rate=1, n_estimators=128;, score=0.582 total time=   6.1s\n",
            "[CV 1/3; 18/30] START learning_rate=1, n_estimators=256.........................\n",
            "[CV 1/3; 18/30] END learning_rate=1, n_estimators=256;, score=0.671 total time=  12.5s\n",
            "[CV 2/3; 18/30] START learning_rate=1, n_estimators=256.........................\n",
            "[CV 2/3; 18/30] END learning_rate=1, n_estimators=256;, score=0.646 total time=  12.5s\n",
            "[CV 3/3; 18/30] START learning_rate=1, n_estimators=256.........................\n",
            "[CV 3/3; 18/30] END learning_rate=1, n_estimators=256;, score=0.579 total time=  12.3s\n",
            "[CV 1/3; 19/30] START learning_rate=1, n_estimators=512.........................\n",
            "[CV 1/3; 19/30] END learning_rate=1, n_estimators=512;, score=0.679 total time=  25.1s\n",
            "[CV 2/3; 19/30] START learning_rate=1, n_estimators=512.........................\n",
            "[CV 2/3; 19/30] END learning_rate=1, n_estimators=512;, score=0.656 total time=  24.9s\n",
            "[CV 3/3; 19/30] START learning_rate=1, n_estimators=512.........................\n",
            "[CV 3/3; 19/30] END learning_rate=1, n_estimators=512;, score=0.530 total time=  24.5s\n",
            "[CV 1/3; 20/30] START learning_rate=1, n_estimators=1024........................\n",
            "[CV 1/3; 20/30] END learning_rate=1, n_estimators=1024;, score=0.680 total time=  50.2s\n",
            "[CV 2/3; 20/30] START learning_rate=1, n_estimators=1024........................\n",
            "[CV 2/3; 20/30] END learning_rate=1, n_estimators=1024;, score=0.647 total time=  50.3s\n",
            "[CV 3/3; 20/30] START learning_rate=1, n_estimators=1024........................\n",
            "[CV 3/3; 20/30] END learning_rate=1, n_estimators=1024;, score=0.530 total time=  48.9s\n",
            "[CV 1/3; 21/30] START learning_rate=2, n_estimators=64..........................\n",
            "[CV 1/3; 21/30] END learning_rate=2, n_estimators=64;, score=0.786 total time=   3.2s\n",
            "[CV 2/3; 21/30] START learning_rate=2, n_estimators=64..........................\n",
            "[CV 2/3; 21/30] END learning_rate=2, n_estimators=64;, score=0.289 total time=   3.1s\n",
            "[CV 3/3; 21/30] START learning_rate=2, n_estimators=64..........................\n",
            "[CV 3/3; 21/30] END learning_rate=2, n_estimators=64;, score=0.373 total time=   3.1s\n",
            "[CV 1/3; 22/30] START learning_rate=2, n_estimators=128.........................\n",
            "[CV 1/3; 22/30] END learning_rate=2, n_estimators=128;, score=0.786 total time=   6.3s\n",
            "[CV 2/3; 22/30] START learning_rate=2, n_estimators=128.........................\n",
            "[CV 2/3; 22/30] END learning_rate=2, n_estimators=128;, score=0.289 total time=   6.2s\n",
            "[CV 3/3; 22/30] START learning_rate=2, n_estimators=128.........................\n",
            "[CV 3/3; 22/30] END learning_rate=2, n_estimators=128;, score=0.373 total time=   6.2s\n",
            "[CV 1/3; 23/30] START learning_rate=2, n_estimators=256.........................\n",
            "[CV 1/3; 23/30] END learning_rate=2, n_estimators=256;, score=0.786 total time=  12.5s\n",
            "[CV 2/3; 23/30] START learning_rate=2, n_estimators=256.........................\n",
            "[CV 2/3; 23/30] END learning_rate=2, n_estimators=256;, score=0.289 total time=  12.4s\n",
            "[CV 3/3; 23/30] START learning_rate=2, n_estimators=256.........................\n",
            "[CV 3/3; 23/30] END learning_rate=2, n_estimators=256;, score=0.373 total time=  12.3s\n",
            "[CV 1/3; 24/30] START learning_rate=2, n_estimators=512.........................\n",
            "[CV 1/3; 24/30] END learning_rate=2, n_estimators=512;, score=0.786 total time=  25.1s\n",
            "[CV 2/3; 24/30] START learning_rate=2, n_estimators=512.........................\n",
            "[CV 2/3; 24/30] END learning_rate=2, n_estimators=512;, score=0.289 total time=  24.8s\n",
            "[CV 3/3; 24/30] START learning_rate=2, n_estimators=512.........................\n",
            "[CV 3/3; 24/30] END learning_rate=2, n_estimators=512;, score=0.373 total time=  24.7s\n",
            "[CV 1/3; 25/30] START learning_rate=2, n_estimators=1024........................\n",
            "[CV 1/3; 25/30] END learning_rate=2, n_estimators=1024;, score=0.786 total time=  51.1s\n",
            "[CV 2/3; 25/30] START learning_rate=2, n_estimators=1024........................\n",
            "[CV 2/3; 25/30] END learning_rate=2, n_estimators=1024;, score=0.289 total time=  50.0s\n",
            "[CV 3/3; 25/30] START learning_rate=2, n_estimators=1024........................\n",
            "[CV 3/3; 25/30] END learning_rate=2, n_estimators=1024;, score=0.373 total time=  49.5s\n",
            "[CV 1/3; 26/30] START learning_rate=4, n_estimators=64..........................\n",
            "[CV 1/3; 26/30] END learning_rate=4, n_estimators=64;, score=0.786 total time=   1.9s\n",
            "[CV 2/3; 26/30] START learning_rate=4, n_estimators=64..........................\n",
            "[CV 2/3; 26/30] END learning_rate=4, n_estimators=64;, score=0.711 total time=   1.9s\n",
            "[CV 3/3; 26/30] START learning_rate=4, n_estimators=64..........................\n",
            "[CV 3/3; 26/30] END learning_rate=4, n_estimators=64;, score=0.627 total time=   1.9s\n",
            "[CV 1/3; 27/30] START learning_rate=4, n_estimators=128.........................\n",
            "[CV 1/3; 27/30] END learning_rate=4, n_estimators=128;, score=0.786 total time=   3.8s\n",
            "[CV 2/3; 27/30] START learning_rate=4, n_estimators=128.........................\n",
            "[CV 2/3; 27/30] END learning_rate=4, n_estimators=128;, score=0.711 total time=   3.8s\n",
            "[CV 3/3; 27/30] START learning_rate=4, n_estimators=128.........................\n",
            "[CV 3/3; 27/30] END learning_rate=4, n_estimators=128;, score=0.627 total time=   3.8s\n",
            "[CV 1/3; 28/30] START learning_rate=4, n_estimators=256.........................\n",
            "[CV 1/3; 28/30] END learning_rate=4, n_estimators=256;, score=0.786 total time=   7.4s\n",
            "[CV 2/3; 28/30] START learning_rate=4, n_estimators=256.........................\n",
            "[CV 2/3; 28/30] END learning_rate=4, n_estimators=256;, score=0.711 total time=   7.4s\n",
            "[CV 3/3; 28/30] START learning_rate=4, n_estimators=256.........................\n",
            "[CV 3/3; 28/30] END learning_rate=4, n_estimators=256;, score=0.627 total time=   7.4s\n",
            "[CV 1/3; 29/30] START learning_rate=4, n_estimators=512.........................\n",
            "[CV 1/3; 29/30] END learning_rate=4, n_estimators=512;, score=0.786 total time=  14.7s\n",
            "[CV 2/3; 29/30] START learning_rate=4, n_estimators=512.........................\n",
            "[CV 2/3; 29/30] END learning_rate=4, n_estimators=512;, score=0.711 total time=  14.8s\n",
            "[CV 3/3; 29/30] START learning_rate=4, n_estimators=512.........................\n",
            "[CV 3/3; 29/30] END learning_rate=4, n_estimators=512;, score=0.627 total time=  14.8s\n",
            "[CV 1/3; 30/30] START learning_rate=4, n_estimators=1024........................\n",
            "[CV 1/3; 30/30] END learning_rate=4, n_estimators=1024;, score=0.786 total time=  29.6s\n",
            "[CV 2/3; 30/30] START learning_rate=4, n_estimators=1024........................\n",
            "[CV 2/3; 30/30] END learning_rate=4, n_estimators=1024;, score=0.711 total time=  29.4s\n",
            "[CV 3/3; 30/30] START learning_rate=4, n_estimators=1024........................\n",
            "[CV 3/3; 30/30] END learning_rate=4, n_estimators=1024;, score=0.627 total time=  29.6s\n"
          ]
        },
        {
          "output_type": "execute_result",
          "data": {
            "text/plain": [
              "GridSearchCV(cv=3, estimator=AdaBoostClassifier(),\n",
              "             param_grid={'learning_rate': [0.125, 0.25, 0.5, 1, 2, 4],\n",
              "                         'n_estimators': [64, 128, 256, 512, 1024]},\n",
              "             scoring='roc_auc', verbose=10)"
            ]
          },
          "metadata": {},
          "execution_count": 107
        }
      ]
    },
    {
      "cell_type": "code",
      "source": [
        "print(abc_grid.best_params_)\n",
        "\n",
        "print(abc_grid.best_score_)\n"
      ],
      "metadata": {
        "colab": {
          "base_uri": "https://localhost:8080/",
          "height": 0
        },
        "id": "xZ-qtiO9s7QU",
        "outputId": "73984206-ee7d-447f-8829-4bbad5eb0bab"
      },
      "execution_count": 108,
      "outputs": [
        {
          "output_type": "stream",
          "name": "stdout",
          "text": [
            "{'learning_rate': 4, 'n_estimators': 64}\n",
            "0.7080983371313218\n"
          ]
        }
      ]
    },
    {
      "cell_type": "code",
      "source": [
        "plotSearchGrid(abc_grid,vmin=0.4, vmax = .8, midpoint=0.6, x = 'learning_rate')"
      ],
      "metadata": {
        "colab": {
          "base_uri": "https://localhost:8080/",
          "height": 557
        },
        "id": "s3NZnbSztpkH",
        "outputId": "a3d5eb86-765e-4c53-f6df-3e278cfe165a"
      },
      "execution_count": 127,
      "outputs": [
        {
          "output_type": "display_data",
          "data": {
            "text/plain": [
              "<Figure size 720x576 with 2 Axes>"
            ],
            "image/png": "[encoded data removed]"
          },
          "metadata": {
            "needs_background": "light"
          }
        }
      ]
    },
    {
      "cell_type": "markdown",
      "source": [
        "#Results and Analysis\n",
        "Now that we have our optimized hyperparameters we can compare the models."
      ],
      "metadata": {
        "id": "kggXJwbPlUGa"
      }
    },
    {
      "cell_type": "code",
      "source": [
        "\n",
        "X_train, X_test, y_train, y_test = train_test_split(df.iloc[:,0:1023], df['y1'], test_size=0.2)\n",
        "\n",
        "rfc = RandomForestClassifier(min_samples_split = 4, n_estimators= 1024)\n",
        "gbc = GradientBoostingClassifier(min_samples_split = 2, n_estimators= 64)\n",
        "abc = AdaBoostClassifier(learning_rate = 4, n_estimators = 64)\n",
        "\n",
        "models = [rfc, gbc, abc]\n",
        "\n",
        "for model in models:\n",
        "  model.fit(X_train, y_train)\n"
      ],
      "metadata": {
        "id": "jAsdv3hjvxvr"
      },
      "execution_count": 133,
      "outputs": []
    },
    {
      "cell_type": "code",
      "source": [
        "for m in models:\n",
        "  RocCurveDisplay.from_estimator(m, X_test, y_test)"
      ],
      "metadata": {
        "colab": {
          "base_uri": "https://localhost:8080/",
          "height": 803
        },
        "id": "1YQLeOduyQ3N",
        "outputId": "6499616d-9c7f-46b3-9598-fd7468869558"
      },
      "execution_count": 138,
      "outputs": [
        {
          "output_type": "display_data",
          "data": {
            "text/plain": [
              "<Figure size 432x288 with 1 Axes>"
            ],
            "image/png": "[encoded data removed]"
          },
          "metadata": {
            "needs_background": "light"
          }
        },
        {
          "output_type": "display_data",
          "data": {
            "text/plain": [
              "<Figure size 432x288 with 1 Axes>"
            ],
            "image/png": "[encoded data removed]"
          },
          "metadata": {
            "needs_background": "light"
          }
        },
        {
          "output_type": "display_data",
          "data": {
            "text/plain": [
              "<Figure size 432x288 with 1 Axes>"
            ],
            "image/png": "[encoded data removed]"
          },
          "metadata": {
            "needs_background": "light"
          }
        }
      ]
    },
    {
      "cell_type": "markdown",
      "source": [
        "All three models ended up performing quite decently, but the random forest classifier did the best with an ROC AUC of .81, which is impressively on par with the models trained for the MoleculeNet paper."
      ],
      "metadata": {
        "id": "V8SVDgJRzedB"
      }
    },
    {
      "cell_type": "markdown",
      "source": [
        "#Discussion and Conclusion\n",
        "It appears that my assumption that ensemble methods would perform decently at classifying toxic molecules turned out to be correct, which, again, I presume is because of the high dimension nature of the molecular fingerprint featurization (which ensemble methods are suited to due to their resistance to the curse of dimensionality). \n",
        "\n",
        "Many of the top performing models on this same dataset from the MoleculeNet benchmark involve more complexity (the best being a convolutional neural network, achieving an ROC AUC of nearly 100%), so I am proud that my relatively simple models were able to achieve scores anywhere near that.",
        "\n",
        "If I were to repeat this project, I would want to expand the GridSearchCV to include larger parameters as it seemed that my search wasn't exhaustive enough (but computational limitations made it difficult to expand the search). I would also go back and create models for toxicity on all 12 of the biological targets so as to get a more universal sense of the molecules' levels of toxicity."
      ],
      "metadata": {
        "id": "xUuW71WLlYFy"
      }
    },
    {
      "cell_type": "markdown",
      "source": [
        "#Bibliography\n",
        "\n",
        "Zhenqin Wu, Bharath Ramsundar, Evan N. Feinberg,  Joseph Gomes, Caleb Geniesse, Aneesh S. Pappu, Karl Leswingd and Vijay Pande. (2017). *MoleculeNet: A Benchmark for Molecular Machine Learning*. Chemical Science. https://doi.org/10.1039/C7SC02664A"
      ],
      "metadata": {
        "id": "NGZ6ybs3pURd"
      }
    },
    {
      "cell_type": "code",
      "source": [],
      "metadata": {
        "id": "y8R-w6kUrTIS"
      },
      "execution_count": null,
      "outputs": []
    }
  ]
}
